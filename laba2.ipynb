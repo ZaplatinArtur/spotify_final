{
  "metadata": {
    "kernelspec": {
      "language": "python",
      "display_name": "Python 3",
      "name": "python3"
    },
    "language_info": {
      "name": "python",
      "version": "3.10.14",
      "mimetype": "text/x-python",
      "codemirror_mode": {
        "name": "ipython",
        "version": 3
      },
      "pygments_lexer": "ipython3",
      "nbconvert_exporter": "python",
      "file_extension": ".py"
    },
    "kaggle": {
      "accelerator": "none",
      "dataSources": [
        {
          "sourceId": 9917665,
          "sourceType": "datasetVersion",
          "datasetId": 6094841
        }
      ],
      "dockerImageVersionId": 30786,
      "isInternetEnabled": false,
      "language": "python",
      "sourceType": "notebook",
      "isGpuEnabled": false
    },
    "colab": {
      "name": "laba2 ",
      "provenance": [],
      "include_colab_link": true
    }
  },
  "nbformat_minor": 0,
  "nbformat": 4,
  "cells": [
    {
      "cell_type": "markdown",
      "metadata": {
        "id": "view-in-github",
        "colab_type": "text"
      },
      "source": [
        "<a href=\"https://colab.research.google.com/github/ZaplatinArtur/spotify_final/blob/main/laba2.ipynb\" target=\"_parent\"><img src=\"https://colab.research.google.com/assets/colab-badge.svg\" alt=\"Open In Colab\"/></a>"
      ]
    },
    {
      "cell_type": "code",
      "source": [
        "# This Python 3 environment comes with many helpful analytics libraries installed\n",
        "# It is defined by the kaggle/python Docker image: https://github.com/kaggle/docker-python\n",
        "# For example, here's several helpful packages to load\n",
        "\n",
        "import numpy as np # linear algebra\n",
        "import pandas as pd # data processing, CSV file I/O (e.g. pd.read_csv)\n",
        "\n",
        "# Input data files are available in the read-only \"../input/\" directory\n",
        "# For example, running this (by clicking run or pressing Shift+Enter) will list all files under the input directory\n",
        "\n",
        "\n",
        "\n",
        "# You can write up to 20GB to the current directory (/kaggle/working/) that gets preserved as output when you create a version using \"Save & Run All\"\n",
        "# You can also write temporary files to /kaggle/temp/, but they won't be saved outside of the current session"
      ],
      "metadata": {
        "_uuid": "8f2839f25d086af736a60e9eeb907d3b93b6e0e5",
        "_cell_guid": "b1076dfc-b9ad-4769-8c92-a6c4dae69d19",
        "trusted": true,
        "id": "FXhPcQebkTNS"
      },
      "outputs": [],
      "execution_count": 1
    },
    {
      "cell_type": "code",
      "source": [
        "import pandas as pd\n",
        "import numpy as np\n",
        "\n",
        "spotify = pd.read_csv(\"dataset.csv\")\n",
        "spotify.head()"
      ],
      "metadata": {
        "execution": {
          "iopub.status.busy": "2024-12-13T09:50:03.335812Z",
          "iopub.execute_input": "2024-12-13T09:50:03.336309Z",
          "iopub.status.idle": "2024-12-13T09:50:03.96104Z",
          "shell.execute_reply.started": "2024-12-13T09:50:03.336267Z",
          "shell.execute_reply": "2024-12-13T09:50:03.959943Z"
        },
        "trusted": true,
        "id": "4BlmSEjpkTNS",
        "outputId": "62710466-0cda-4072-c118-19114f612bd3",
        "colab": {
          "base_uri": "https://localhost:8080/",
          "height": 394
        }
      },
      "outputs": [
        {
          "output_type": "execute_result",
          "data": {
            "text/plain": [
              "   Unnamed: 0                track_id                 artists  \\\n",
              "0           0  5SuOikwiRyPMVoIQDJUgSV             Gen Hoshino   \n",
              "1           1  4qPNDBW1i3p13qLCt0Ki3A            Ben Woodward   \n",
              "2           2  1iJBSr7s7jYXzM8EGcbK5b  Ingrid Michaelson;ZAYN   \n",
              "3           3  6lfxq3CG4xtTiEg7opyCyx            Kina Grannis   \n",
              "4           4  5vjLSffimiIP26QG5WcN2K        Chord Overstreet   \n",
              "\n",
              "                                          album_name  \\\n",
              "0                                             Comedy   \n",
              "1                                   Ghost (Acoustic)   \n",
              "2                                     To Begin Again   \n",
              "3  Crazy Rich Asians (Original Motion Picture Sou...   \n",
              "4                                            Hold On   \n",
              "\n",
              "                   track_name  popularity  duration_ms  explicit  \\\n",
              "0                      Comedy          73       230666     False   \n",
              "1            Ghost - Acoustic          55       149610     False   \n",
              "2              To Begin Again          57       210826     False   \n",
              "3  Can't Help Falling In Love          71       201933     False   \n",
              "4                     Hold On          82       198853     False   \n",
              "\n",
              "   danceability  energy  ...  loudness  mode  speechiness  acousticness  \\\n",
              "0         0.676  0.4610  ...    -6.746     0       0.1430        0.0322   \n",
              "1         0.420  0.1660  ...   -17.235     1       0.0763        0.9240   \n",
              "2         0.438  0.3590  ...    -9.734     1       0.0557        0.2100   \n",
              "3         0.266  0.0596  ...   -18.515     1       0.0363        0.9050   \n",
              "4         0.618  0.4430  ...    -9.681     1       0.0526        0.4690   \n",
              "\n",
              "   instrumentalness  liveness  valence    tempo  time_signature  track_genre  \n",
              "0          0.000001    0.3580    0.715   87.917               4     acoustic  \n",
              "1          0.000006    0.1010    0.267   77.489               4     acoustic  \n",
              "2          0.000000    0.1170    0.120   76.332               4     acoustic  \n",
              "3          0.000071    0.1320    0.143  181.740               3     acoustic  \n",
              "4          0.000000    0.0829    0.167  119.949               4     acoustic  \n",
              "\n",
              "[5 rows x 21 columns]"
            ],
            "text/html": [
              "\n",
              "  <div id=\"df-30d2b65f-67bc-48db-b669-ea2ff93a3695\" class=\"colab-df-container\">\n",
              "    <div>\n",
              "<style scoped>\n",
              "    .dataframe tbody tr th:only-of-type {\n",
              "        vertical-align: middle;\n",
              "    }\n",
              "\n",
              "    .dataframe tbody tr th {\n",
              "        vertical-align: top;\n",
              "    }\n",
              "\n",
              "    .dataframe thead th {\n",
              "        text-align: right;\n",
              "    }\n",
              "</style>\n",
              "<table border=\"1\" class=\"dataframe\">\n",
              "  <thead>\n",
              "    <tr style=\"text-align: right;\">\n",
              "      <th></th>\n",
              "      <th>Unnamed: 0</th>\n",
              "      <th>track_id</th>\n",
              "      <th>artists</th>\n",
              "      <th>album_name</th>\n",
              "      <th>track_name</th>\n",
              "      <th>popularity</th>\n",
              "      <th>duration_ms</th>\n",
              "      <th>explicit</th>\n",
              "      <th>danceability</th>\n",
              "      <th>energy</th>\n",
              "      <th>...</th>\n",
              "      <th>loudness</th>\n",
              "      <th>mode</th>\n",
              "      <th>speechiness</th>\n",
              "      <th>acousticness</th>\n",
              "      <th>instrumentalness</th>\n",
              "      <th>liveness</th>\n",
              "      <th>valence</th>\n",
              "      <th>tempo</th>\n",
              "      <th>time_signature</th>\n",
              "      <th>track_genre</th>\n",
              "    </tr>\n",
              "  </thead>\n",
              "  <tbody>\n",
              "    <tr>\n",
              "      <th>0</th>\n",
              "      <td>0</td>\n",
              "      <td>5SuOikwiRyPMVoIQDJUgSV</td>\n",
              "      <td>Gen Hoshino</td>\n",
              "      <td>Comedy</td>\n",
              "      <td>Comedy</td>\n",
              "      <td>73</td>\n",
              "      <td>230666</td>\n",
              "      <td>False</td>\n",
              "      <td>0.676</td>\n",
              "      <td>0.4610</td>\n",
              "      <td>...</td>\n",
              "      <td>-6.746</td>\n",
              "      <td>0</td>\n",
              "      <td>0.1430</td>\n",
              "      <td>0.0322</td>\n",
              "      <td>0.000001</td>\n",
              "      <td>0.3580</td>\n",
              "      <td>0.715</td>\n",
              "      <td>87.917</td>\n",
              "      <td>4</td>\n",
              "      <td>acoustic</td>\n",
              "    </tr>\n",
              "    <tr>\n",
              "      <th>1</th>\n",
              "      <td>1</td>\n",
              "      <td>4qPNDBW1i3p13qLCt0Ki3A</td>\n",
              "      <td>Ben Woodward</td>\n",
              "      <td>Ghost (Acoustic)</td>\n",
              "      <td>Ghost - Acoustic</td>\n",
              "      <td>55</td>\n",
              "      <td>149610</td>\n",
              "      <td>False</td>\n",
              "      <td>0.420</td>\n",
              "      <td>0.1660</td>\n",
              "      <td>...</td>\n",
              "      <td>-17.235</td>\n",
              "      <td>1</td>\n",
              "      <td>0.0763</td>\n",
              "      <td>0.9240</td>\n",
              "      <td>0.000006</td>\n",
              "      <td>0.1010</td>\n",
              "      <td>0.267</td>\n",
              "      <td>77.489</td>\n",
              "      <td>4</td>\n",
              "      <td>acoustic</td>\n",
              "    </tr>\n",
              "    <tr>\n",
              "      <th>2</th>\n",
              "      <td>2</td>\n",
              "      <td>1iJBSr7s7jYXzM8EGcbK5b</td>\n",
              "      <td>Ingrid Michaelson;ZAYN</td>\n",
              "      <td>To Begin Again</td>\n",
              "      <td>To Begin Again</td>\n",
              "      <td>57</td>\n",
              "      <td>210826</td>\n",
              "      <td>False</td>\n",
              "      <td>0.438</td>\n",
              "      <td>0.3590</td>\n",
              "      <td>...</td>\n",
              "      <td>-9.734</td>\n",
              "      <td>1</td>\n",
              "      <td>0.0557</td>\n",
              "      <td>0.2100</td>\n",
              "      <td>0.000000</td>\n",
              "      <td>0.1170</td>\n",
              "      <td>0.120</td>\n",
              "      <td>76.332</td>\n",
              "      <td>4</td>\n",
              "      <td>acoustic</td>\n",
              "    </tr>\n",
              "    <tr>\n",
              "      <th>3</th>\n",
              "      <td>3</td>\n",
              "      <td>6lfxq3CG4xtTiEg7opyCyx</td>\n",
              "      <td>Kina Grannis</td>\n",
              "      <td>Crazy Rich Asians (Original Motion Picture Sou...</td>\n",
              "      <td>Can't Help Falling In Love</td>\n",
              "      <td>71</td>\n",
              "      <td>201933</td>\n",
              "      <td>False</td>\n",
              "      <td>0.266</td>\n",
              "      <td>0.0596</td>\n",
              "      <td>...</td>\n",
              "      <td>-18.515</td>\n",
              "      <td>1</td>\n",
              "      <td>0.0363</td>\n",
              "      <td>0.9050</td>\n",
              "      <td>0.000071</td>\n",
              "      <td>0.1320</td>\n",
              "      <td>0.143</td>\n",
              "      <td>181.740</td>\n",
              "      <td>3</td>\n",
              "      <td>acoustic</td>\n",
              "    </tr>\n",
              "    <tr>\n",
              "      <th>4</th>\n",
              "      <td>4</td>\n",
              "      <td>5vjLSffimiIP26QG5WcN2K</td>\n",
              "      <td>Chord Overstreet</td>\n",
              "      <td>Hold On</td>\n",
              "      <td>Hold On</td>\n",
              "      <td>82</td>\n",
              "      <td>198853</td>\n",
              "      <td>False</td>\n",
              "      <td>0.618</td>\n",
              "      <td>0.4430</td>\n",
              "      <td>...</td>\n",
              "      <td>-9.681</td>\n",
              "      <td>1</td>\n",
              "      <td>0.0526</td>\n",
              "      <td>0.4690</td>\n",
              "      <td>0.000000</td>\n",
              "      <td>0.0829</td>\n",
              "      <td>0.167</td>\n",
              "      <td>119.949</td>\n",
              "      <td>4</td>\n",
              "      <td>acoustic</td>\n",
              "    </tr>\n",
              "  </tbody>\n",
              "</table>\n",
              "<p>5 rows × 21 columns</p>\n",
              "</div>\n",
              "    <div class=\"colab-df-buttons\">\n",
              "\n",
              "  <div class=\"colab-df-container\">\n",
              "    <button class=\"colab-df-convert\" onclick=\"convertToInteractive('df-30d2b65f-67bc-48db-b669-ea2ff93a3695')\"\n",
              "            title=\"Convert this dataframe to an interactive table.\"\n",
              "            style=\"display:none;\">\n",
              "\n",
              "  <svg xmlns=\"http://www.w3.org/2000/svg\" height=\"24px\" viewBox=\"0 -960 960 960\">\n",
              "    <path d=\"M120-120v-720h720v720H120Zm60-500h600v-160H180v160Zm220 220h160v-160H400v160Zm0 220h160v-160H400v160ZM180-400h160v-160H180v160Zm440 0h160v-160H620v160ZM180-180h160v-160H180v160Zm440 0h160v-160H620v160Z\"/>\n",
              "  </svg>\n",
              "    </button>\n",
              "\n",
              "  <style>\n",
              "    .colab-df-container {\n",
              "      display:flex;\n",
              "      gap: 12px;\n",
              "    }\n",
              "\n",
              "    .colab-df-convert {\n",
              "      background-color: #E8F0FE;\n",
              "      border: none;\n",
              "      border-radius: 50%;\n",
              "      cursor: pointer;\n",
              "      display: none;\n",
              "      fill: #1967D2;\n",
              "      height: 32px;\n",
              "      padding: 0 0 0 0;\n",
              "      width: 32px;\n",
              "    }\n",
              "\n",
              "    .colab-df-convert:hover {\n",
              "      background-color: #E2EBFA;\n",
              "      box-shadow: 0px 1px 2px rgba(60, 64, 67, 0.3), 0px 1px 3px 1px rgba(60, 64, 67, 0.15);\n",
              "      fill: #174EA6;\n",
              "    }\n",
              "\n",
              "    .colab-df-buttons div {\n",
              "      margin-bottom: 4px;\n",
              "    }\n",
              "\n",
              "    [theme=dark] .colab-df-convert {\n",
              "      background-color: #3B4455;\n",
              "      fill: #D2E3FC;\n",
              "    }\n",
              "\n",
              "    [theme=dark] .colab-df-convert:hover {\n",
              "      background-color: #434B5C;\n",
              "      box-shadow: 0px 1px 3px 1px rgba(0, 0, 0, 0.15);\n",
              "      filter: drop-shadow(0px 1px 2px rgba(0, 0, 0, 0.3));\n",
              "      fill: #FFFFFF;\n",
              "    }\n",
              "  </style>\n",
              "\n",
              "    <script>\n",
              "      const buttonEl =\n",
              "        document.querySelector('#df-30d2b65f-67bc-48db-b669-ea2ff93a3695 button.colab-df-convert');\n",
              "      buttonEl.style.display =\n",
              "        google.colab.kernel.accessAllowed ? 'block' : 'none';\n",
              "\n",
              "      async function convertToInteractive(key) {\n",
              "        const element = document.querySelector('#df-30d2b65f-67bc-48db-b669-ea2ff93a3695');\n",
              "        const dataTable =\n",
              "          await google.colab.kernel.invokeFunction('convertToInteractive',\n",
              "                                                    [key], {});\n",
              "        if (!dataTable) return;\n",
              "\n",
              "        const docLinkHtml = 'Like what you see? Visit the ' +\n",
              "          '<a target=\"_blank\" href=https://colab.research.google.com/notebooks/data_table.ipynb>data table notebook</a>'\n",
              "          + ' to learn more about interactive tables.';\n",
              "        element.innerHTML = '';\n",
              "        dataTable['output_type'] = 'display_data';\n",
              "        await google.colab.output.renderOutput(dataTable, element);\n",
              "        const docLink = document.createElement('div');\n",
              "        docLink.innerHTML = docLinkHtml;\n",
              "        element.appendChild(docLink);\n",
              "      }\n",
              "    </script>\n",
              "  </div>\n",
              "\n",
              "\n",
              "<div id=\"df-7fa5d7e3-d98c-4276-a2b2-6abcf0a5bdff\">\n",
              "  <button class=\"colab-df-quickchart\" onclick=\"quickchart('df-7fa5d7e3-d98c-4276-a2b2-6abcf0a5bdff')\"\n",
              "            title=\"Suggest charts\"\n",
              "            style=\"display:none;\">\n",
              "\n",
              "<svg xmlns=\"http://www.w3.org/2000/svg\" height=\"24px\"viewBox=\"0 0 24 24\"\n",
              "     width=\"24px\">\n",
              "    <g>\n",
              "        <path d=\"M19 3H5c-1.1 0-2 .9-2 2v14c0 1.1.9 2 2 2h14c1.1 0 2-.9 2-2V5c0-1.1-.9-2-2-2zM9 17H7v-7h2v7zm4 0h-2V7h2v10zm4 0h-2v-4h2v4z\"/>\n",
              "    </g>\n",
              "</svg>\n",
              "  </button>\n",
              "\n",
              "<style>\n",
              "  .colab-df-quickchart {\n",
              "      --bg-color: #E8F0FE;\n",
              "      --fill-color: #1967D2;\n",
              "      --hover-bg-color: #E2EBFA;\n",
              "      --hover-fill-color: #174EA6;\n",
              "      --disabled-fill-color: #AAA;\n",
              "      --disabled-bg-color: #DDD;\n",
              "  }\n",
              "\n",
              "  [theme=dark] .colab-df-quickchart {\n",
              "      --bg-color: #3B4455;\n",
              "      --fill-color: #D2E3FC;\n",
              "      --hover-bg-color: #434B5C;\n",
              "      --hover-fill-color: #FFFFFF;\n",
              "      --disabled-bg-color: #3B4455;\n",
              "      --disabled-fill-color: #666;\n",
              "  }\n",
              "\n",
              "  .colab-df-quickchart {\n",
              "    background-color: var(--bg-color);\n",
              "    border: none;\n",
              "    border-radius: 50%;\n",
              "    cursor: pointer;\n",
              "    display: none;\n",
              "    fill: var(--fill-color);\n",
              "    height: 32px;\n",
              "    padding: 0;\n",
              "    width: 32px;\n",
              "  }\n",
              "\n",
              "  .colab-df-quickchart:hover {\n",
              "    background-color: var(--hover-bg-color);\n",
              "    box-shadow: 0 1px 2px rgba(60, 64, 67, 0.3), 0 1px 3px 1px rgba(60, 64, 67, 0.15);\n",
              "    fill: var(--button-hover-fill-color);\n",
              "  }\n",
              "\n",
              "  .colab-df-quickchart-complete:disabled,\n",
              "  .colab-df-quickchart-complete:disabled:hover {\n",
              "    background-color: var(--disabled-bg-color);\n",
              "    fill: var(--disabled-fill-color);\n",
              "    box-shadow: none;\n",
              "  }\n",
              "\n",
              "  .colab-df-spinner {\n",
              "    border: 2px solid var(--fill-color);\n",
              "    border-color: transparent;\n",
              "    border-bottom-color: var(--fill-color);\n",
              "    animation:\n",
              "      spin 1s steps(1) infinite;\n",
              "  }\n",
              "\n",
              "  @keyframes spin {\n",
              "    0% {\n",
              "      border-color: transparent;\n",
              "      border-bottom-color: var(--fill-color);\n",
              "      border-left-color: var(--fill-color);\n",
              "    }\n",
              "    20% {\n",
              "      border-color: transparent;\n",
              "      border-left-color: var(--fill-color);\n",
              "      border-top-color: var(--fill-color);\n",
              "    }\n",
              "    30% {\n",
              "      border-color: transparent;\n",
              "      border-left-color: var(--fill-color);\n",
              "      border-top-color: var(--fill-color);\n",
              "      border-right-color: var(--fill-color);\n",
              "    }\n",
              "    40% {\n",
              "      border-color: transparent;\n",
              "      border-right-color: var(--fill-color);\n",
              "      border-top-color: var(--fill-color);\n",
              "    }\n",
              "    60% {\n",
              "      border-color: transparent;\n",
              "      border-right-color: var(--fill-color);\n",
              "    }\n",
              "    80% {\n",
              "      border-color: transparent;\n",
              "      border-right-color: var(--fill-color);\n",
              "      border-bottom-color: var(--fill-color);\n",
              "    }\n",
              "    90% {\n",
              "      border-color: transparent;\n",
              "      border-bottom-color: var(--fill-color);\n",
              "    }\n",
              "  }\n",
              "</style>\n",
              "\n",
              "  <script>\n",
              "    async function quickchart(key) {\n",
              "      const quickchartButtonEl =\n",
              "        document.querySelector('#' + key + ' button');\n",
              "      quickchartButtonEl.disabled = true;  // To prevent multiple clicks.\n",
              "      quickchartButtonEl.classList.add('colab-df-spinner');\n",
              "      try {\n",
              "        const charts = await google.colab.kernel.invokeFunction(\n",
              "            'suggestCharts', [key], {});\n",
              "      } catch (error) {\n",
              "        console.error('Error during call to suggestCharts:', error);\n",
              "      }\n",
              "      quickchartButtonEl.classList.remove('colab-df-spinner');\n",
              "      quickchartButtonEl.classList.add('colab-df-quickchart-complete');\n",
              "    }\n",
              "    (() => {\n",
              "      let quickchartButtonEl =\n",
              "        document.querySelector('#df-7fa5d7e3-d98c-4276-a2b2-6abcf0a5bdff button');\n",
              "      quickchartButtonEl.style.display =\n",
              "        google.colab.kernel.accessAllowed ? 'block' : 'none';\n",
              "    })();\n",
              "  </script>\n",
              "</div>\n",
              "    </div>\n",
              "  </div>\n"
            ],
            "application/vnd.google.colaboratory.intrinsic+json": {
              "type": "dataframe",
              "variable_name": "spotify"
            }
          },
          "metadata": {},
          "execution_count": 2
        }
      ],
      "execution_count": 2
    },
    {
      "cell_type": "markdown",
      "source": [
        "**Описание колонок**"
      ],
      "metadata": {
        "id": "4Cr97ewQkTNT"
      }
    },
    {
      "cell_type": "markdown",
      "source": [
        "<h1>Расшифровка колонок:</h1>\n",
        "\n",
        "<b>track_id</b>: идентификатор Spotify для трека\n",
        "\n",
        "<b>artists</b>: Имена исполнителей, которые выполнили трек. Если исполнителей больше одного, они разделены точкой с запятой\n",
        "\n",
        "<b>album_name</b>: Название альбома, в котором появляется трек\n",
        "\n",
        "<b>track_name</b>: Название трека\n",
        "\n",
        "<b>popularity</b>: Популярность трека — это значение между 0 и 100, где 100 — самая популярная. Популярность рассчитывается алгоритмом и в основном зависит от общего количества прослушиваний трека и того, насколько эти прослушивания недавние. В общем, песни, которые сейчас слушают много, будут иметь более высокую популярность, чем песни, которые слушали много в прошлом. Дублирующиеся треки (например, один и тот же трек из сингла и альбома) оцениваются независимо. Популярность артиста и альбома выводится математически из популярности трека\n",
        "\n",
        "<b>duration_ms</b>: Длительность трека в миллисекундах\n",
        "\n",
        "<b>explicit</b>: Содержит ли трек откровенную лирику (true = да; false = нет или неизвестно)\n",
        "\n",
        "<b>danceability</b>: Танцевальность описывает, насколько трек подходит для танцев на основе комбинации музыкальных элементов, включая темп, стабильность ритма, силу бита и общую регулярность. Значение 0.0 — наименее танцевальный, 1.0 — наиболее танцевальный\n",
        "\n",
        "<b>energy</b>: Энергия — это мера от 0.0 до 1.0 и представляет собой воспринимаемую меру интенсивности и активности. Обычно энергичные треки кажутся быстрыми, громкими и шумными. Например, дэт-метал имеет высокую энергию, тогда как прелюдия Баха получает низкий балл по шкале\n",
        "\n",
        "<b>key</b>: Ключ, в котором находится трек. Целые числа соответствуют высотам звука с использованием стандартной нотации класса высоты. Например, 0 = C, 1 = C♯/D♭, 2 = D и так далее. Если ключ не был обнаружен, значение равно -1\n",
        "\n",
        "<b>loudness</b>: Общая громкость трека в децибелах (дБ)\n",
        "\n",
        "<b>mode</b>: Режим указывает модальность (мажор или минор) трека, тип масштаба, из которого происходит его мелодическое содержание. Мажор представлен 1, минор — 0\n",
        "\n",
        "<b>speechiness</b>: Речевитость обнаруживает наличие разговорных слов в треке. Чем больше трек похож на речь (например, ток-шоу, аудиокнига, поэзия), тем ближе к 1.0 значение атрибута. Значения выше 0.66 описывают треки, которые, вероятно, полностью состоят из разговорных слов. Значения между 0.33 и 0.66 описывают треки, которые могут содержать как музыку, так и речь, либо в разделах, либо в слоях, включая такие случаи, как рэп-музыка. Значения ниже 0.33, скорее всего, представляют музыку и другие неречевые треки\n",
        "\n",
        "<b>acousticness</b>: Мера уверенности от 0.0 до 1.0 в том, является ли трек акустическим. 1.0 представляет высокую уверенность в том, что трек акустический\n",
        "\n",
        "<b>instrumentalness</b>: Предсказывает, содержит ли трек вокал. Звуки \"оох\" и \"аах\" рассматриваются как инструментальные в этом контексте. Рэп или спич-треки явно \"вокальные\". Чем ближе значение инструментальности к 1.0, тем выше вероятность, что трек не содержит вокала\n",
        "\n",
        "<b>liveness</b>: Обнаруживает наличие аудитории в записи. Более высокие значения живучести представляют увеличенную вероятность того, что трек был исполнен вживую. Значение выше 0.8 обеспечивает высокую вероятность того, что трек живой\n",
        "\n",
        "<b>valence</b>: Мера от 0.0 до 1.0, описывающая музыкальную позитивность, передаваемую треком. Треки с высокой валентностью звучат более позитивно (например, счастливо, радостно, эйфорично), тогда как треки с низкой валентностью звучат более негативно (например, грустно, подавленно, зло)\n",
        "\n",
        "<b>tempo</b>: Общая оценка темпа трека в ударах в минуту (BPM). В музыкальной терминологии темп — это скорость или темп данного произведения и происходит непосредственно от средней длительности удара\n",
        "\n",
        "<b>time_signature</b>: Оценка размера. Размер (метр) — это нотационное соглашение для указания количества ударов в каждом такте (или мере). Размер варьируется от 3 до 7, указывая размеры от 3/4 до 7/4\n",
        "\n",
        "<b>track_genre</b>: Жанр, к которому принадлежит трек\n"
      ],
      "metadata": {
        "id": "yPNttbp_kTNT"
      }
    },
    {
      "cell_type": "markdown",
      "source": [
        "# *АНАЛИТИКА*"
      ],
      "metadata": {
        "id": "HFOCiZldkTNU"
      }
    },
    {
      "cell_type": "code",
      "source": [
        "spotify.columns"
      ],
      "metadata": {
        "trusted": true,
        "execution": {
          "iopub.status.busy": "2024-12-06T12:19:24.605089Z",
          "iopub.execute_input": "2024-12-06T12:19:24.605759Z",
          "iopub.status.idle": "2024-12-06T12:19:24.616199Z",
          "shell.execute_reply.started": "2024-12-06T12:19:24.605698Z",
          "shell.execute_reply": "2024-12-06T12:19:24.614615Z"
        },
        "id": "v2cTUMLFkTNU",
        "outputId": "fdd30ac7-8475-4025-b1a2-4c73979220ba",
        "colab": {
          "base_uri": "https://localhost:8080/"
        }
      },
      "outputs": [
        {
          "output_type": "execute_result",
          "data": {
            "text/plain": [
              "Index(['Unnamed: 0', 'track_id', 'artists', 'album_name', 'track_name',\n",
              "       'popularity', 'duration_ms', 'explicit', 'danceability', 'energy',\n",
              "       'key', 'loudness', 'mode', 'speechiness', 'acousticness',\n",
              "       'instrumentalness', 'liveness', 'valence', 'tempo', 'time_signature',\n",
              "       'track_genre'],\n",
              "      dtype='object')"
            ]
          },
          "metadata": {},
          "execution_count": 3
        }
      ],
      "execution_count": 3
    },
    {
      "cell_type": "code",
      "source": [
        "spotify = spotify.drop(\"Unnamed: 0\",axis = 1)"
      ],
      "metadata": {
        "trusted": true,
        "execution": {
          "iopub.status.busy": "2024-12-13T09:50:17.472532Z",
          "iopub.execute_input": "2024-12-13T09:50:17.47294Z",
          "iopub.status.idle": "2024-12-13T09:50:17.487896Z",
          "shell.execute_reply.started": "2024-12-13T09:50:17.472905Z",
          "shell.execute_reply": "2024-12-13T09:50:17.486815Z"
        },
        "id": "fXhzg-cekTNU"
      },
      "outputs": [],
      "execution_count": 4
    },
    {
      "cell_type": "markdown",
      "source": [
        "удалили эту колонку т.к она ни несет в себе смысла"
      ],
      "metadata": {
        "id": "AaqIQVYIkTNU"
      }
    },
    {
      "cell_type": "markdown",
      "source": [
        "также можем удалить название песни"
      ],
      "metadata": {
        "id": "1BPKA2PPkTNU"
      }
    },
    {
      "cell_type": "code",
      "source": [
        "spotify.info()"
      ],
      "metadata": {
        "trusted": true,
        "execution": {
          "iopub.status.busy": "2024-12-06T12:14:03.522277Z",
          "iopub.execute_input": "2024-12-06T12:14:03.522865Z",
          "iopub.status.idle": "2024-12-06T12:14:03.580658Z",
          "shell.execute_reply.started": "2024-12-06T12:14:03.522812Z",
          "shell.execute_reply": "2024-12-06T12:14:03.579439Z"
        },
        "id": "cwlhx5NBkTNV",
        "outputId": "97a6098c-3f00-4702-ccca-3012b3cf4af5",
        "colab": {
          "base_uri": "https://localhost:8080/"
        }
      },
      "outputs": [
        {
          "output_type": "stream",
          "name": "stdout",
          "text": [
            "<class 'pandas.core.frame.DataFrame'>\n",
            "RangeIndex: 114000 entries, 0 to 113999\n",
            "Data columns (total 20 columns):\n",
            " #   Column            Non-Null Count   Dtype  \n",
            "---  ------            --------------   -----  \n",
            " 0   track_id          114000 non-null  object \n",
            " 1   artists           113999 non-null  object \n",
            " 2   album_name        113999 non-null  object \n",
            " 3   track_name        113999 non-null  object \n",
            " 4   popularity        114000 non-null  int64  \n",
            " 5   duration_ms       114000 non-null  int64  \n",
            " 6   explicit          114000 non-null  bool   \n",
            " 7   danceability      114000 non-null  float64\n",
            " 8   energy            114000 non-null  float64\n",
            " 9   key               114000 non-null  int64  \n",
            " 10  loudness          114000 non-null  float64\n",
            " 11  mode              114000 non-null  int64  \n",
            " 12  speechiness       114000 non-null  float64\n",
            " 13  acousticness      114000 non-null  float64\n",
            " 14  instrumentalness  114000 non-null  float64\n",
            " 15  liveness          114000 non-null  float64\n",
            " 16  valence           114000 non-null  float64\n",
            " 17  tempo             114000 non-null  float64\n",
            " 18  time_signature    114000 non-null  int64  \n",
            " 19  track_genre       114000 non-null  object \n",
            "dtypes: bool(1), float64(9), int64(5), object(5)\n",
            "memory usage: 16.6+ MB\n"
          ]
        }
      ],
      "execution_count": 5
    },
    {
      "cell_type": "markdown",
      "source": [
        "**Работа с пропусками**"
      ],
      "metadata": {
        "id": "X9Z_rW-hkTNV"
      }
    },
    {
      "cell_type": "code",
      "source": [
        "np.sum(spotify.isnull())"
      ],
      "metadata": {
        "trusted": true,
        "execution": {
          "iopub.status.busy": "2024-12-06T12:19:40.508067Z",
          "iopub.execute_input": "2024-12-06T12:19:40.508544Z",
          "iopub.status.idle": "2024-12-06T12:19:40.555264Z",
          "shell.execute_reply.started": "2024-12-06T12:19:40.508508Z",
          "shell.execute_reply": "2024-12-06T12:19:40.553599Z"
        },
        "id": "VJiht6kskTNV",
        "outputId": "c00e5238-96fd-4ba3-914d-9ddec4fb4be9",
        "colab": {
          "base_uri": "https://localhost:8080/",
          "height": 766
        }
      },
      "outputs": [
        {
          "output_type": "stream",
          "name": "stderr",
          "text": [
            "/usr/local/lib/python3.10/dist-packages/numpy/core/fromnumeric.py:86: FutureWarning: The behavior of DataFrame.sum with axis=None is deprecated, in a future version this will reduce over both axes and return a scalar. To retain the old behavior, pass axis=0 (or do not pass axis)\n",
            "  return reduction(axis=axis, out=out, **passkwargs)\n"
          ]
        },
        {
          "output_type": "execute_result",
          "data": {
            "text/plain": [
              "track_id            0\n",
              "artists             1\n",
              "album_name          1\n",
              "track_name          1\n",
              "popularity          0\n",
              "duration_ms         0\n",
              "explicit            0\n",
              "danceability        0\n",
              "energy              0\n",
              "key                 0\n",
              "loudness            0\n",
              "mode                0\n",
              "speechiness         0\n",
              "acousticness        0\n",
              "instrumentalness    0\n",
              "liveness            0\n",
              "valence             0\n",
              "tempo               0\n",
              "time_signature      0\n",
              "track_genre         0\n",
              "dtype: int64"
            ],
            "text/html": [
              "<div>\n",
              "<style scoped>\n",
              "    .dataframe tbody tr th:only-of-type {\n",
              "        vertical-align: middle;\n",
              "    }\n",
              "\n",
              "    .dataframe tbody tr th {\n",
              "        vertical-align: top;\n",
              "    }\n",
              "\n",
              "    .dataframe thead th {\n",
              "        text-align: right;\n",
              "    }\n",
              "</style>\n",
              "<table border=\"1\" class=\"dataframe\">\n",
              "  <thead>\n",
              "    <tr style=\"text-align: right;\">\n",
              "      <th></th>\n",
              "      <th>0</th>\n",
              "    </tr>\n",
              "  </thead>\n",
              "  <tbody>\n",
              "    <tr>\n",
              "      <th>track_id</th>\n",
              "      <td>0</td>\n",
              "    </tr>\n",
              "    <tr>\n",
              "      <th>artists</th>\n",
              "      <td>1</td>\n",
              "    </tr>\n",
              "    <tr>\n",
              "      <th>album_name</th>\n",
              "      <td>1</td>\n",
              "    </tr>\n",
              "    <tr>\n",
              "      <th>track_name</th>\n",
              "      <td>1</td>\n",
              "    </tr>\n",
              "    <tr>\n",
              "      <th>popularity</th>\n",
              "      <td>0</td>\n",
              "    </tr>\n",
              "    <tr>\n",
              "      <th>duration_ms</th>\n",
              "      <td>0</td>\n",
              "    </tr>\n",
              "    <tr>\n",
              "      <th>explicit</th>\n",
              "      <td>0</td>\n",
              "    </tr>\n",
              "    <tr>\n",
              "      <th>danceability</th>\n",
              "      <td>0</td>\n",
              "    </tr>\n",
              "    <tr>\n",
              "      <th>energy</th>\n",
              "      <td>0</td>\n",
              "    </tr>\n",
              "    <tr>\n",
              "      <th>key</th>\n",
              "      <td>0</td>\n",
              "    </tr>\n",
              "    <tr>\n",
              "      <th>loudness</th>\n",
              "      <td>0</td>\n",
              "    </tr>\n",
              "    <tr>\n",
              "      <th>mode</th>\n",
              "      <td>0</td>\n",
              "    </tr>\n",
              "    <tr>\n",
              "      <th>speechiness</th>\n",
              "      <td>0</td>\n",
              "    </tr>\n",
              "    <tr>\n",
              "      <th>acousticness</th>\n",
              "      <td>0</td>\n",
              "    </tr>\n",
              "    <tr>\n",
              "      <th>instrumentalness</th>\n",
              "      <td>0</td>\n",
              "    </tr>\n",
              "    <tr>\n",
              "      <th>liveness</th>\n",
              "      <td>0</td>\n",
              "    </tr>\n",
              "    <tr>\n",
              "      <th>valence</th>\n",
              "      <td>0</td>\n",
              "    </tr>\n",
              "    <tr>\n",
              "      <th>tempo</th>\n",
              "      <td>0</td>\n",
              "    </tr>\n",
              "    <tr>\n",
              "      <th>time_signature</th>\n",
              "      <td>0</td>\n",
              "    </tr>\n",
              "    <tr>\n",
              "      <th>track_genre</th>\n",
              "      <td>0</td>\n",
              "    </tr>\n",
              "  </tbody>\n",
              "</table>\n",
              "</div><br><label><b>dtype:</b> int64</label>"
            ]
          },
          "metadata": {},
          "execution_count": 6
        }
      ],
      "execution_count": 6
    },
    {
      "cell_type": "markdown",
      "source": [
        "как видиим пропусков мало,можем их просто удалить"
      ],
      "metadata": {
        "id": "F_Dlw39BkTNV"
      }
    },
    {
      "cell_type": "code",
      "source": [
        "spotify = spotify.dropna()\n",
        "spotify.info()"
      ],
      "metadata": {
        "trusted": true,
        "execution": {
          "iopub.status.busy": "2024-12-13T09:50:30.478306Z",
          "iopub.execute_input": "2024-12-13T09:50:30.478698Z",
          "iopub.status.idle": "2024-12-13T09:50:30.578424Z",
          "shell.execute_reply.started": "2024-12-13T09:50:30.478663Z",
          "shell.execute_reply": "2024-12-13T09:50:30.57734Z"
        },
        "id": "lI17z-dtkTNV",
        "outputId": "e4b6ec7f-c3bd-4b62-ede4-3c7f761fc805",
        "colab": {
          "base_uri": "https://localhost:8080/"
        }
      },
      "outputs": [
        {
          "output_type": "stream",
          "name": "stdout",
          "text": [
            "<class 'pandas.core.frame.DataFrame'>\n",
            "Index: 113999 entries, 0 to 113999\n",
            "Data columns (total 20 columns):\n",
            " #   Column            Non-Null Count   Dtype  \n",
            "---  ------            --------------   -----  \n",
            " 0   track_id          113999 non-null  object \n",
            " 1   artists           113999 non-null  object \n",
            " 2   album_name        113999 non-null  object \n",
            " 3   track_name        113999 non-null  object \n",
            " 4   popularity        113999 non-null  int64  \n",
            " 5   duration_ms       113999 non-null  int64  \n",
            " 6   explicit          113999 non-null  bool   \n",
            " 7   danceability      113999 non-null  float64\n",
            " 8   energy            113999 non-null  float64\n",
            " 9   key               113999 non-null  int64  \n",
            " 10  loudness          113999 non-null  float64\n",
            " 11  mode              113999 non-null  int64  \n",
            " 12  speechiness       113999 non-null  float64\n",
            " 13  acousticness      113999 non-null  float64\n",
            " 14  instrumentalness  113999 non-null  float64\n",
            " 15  liveness          113999 non-null  float64\n",
            " 16  valence           113999 non-null  float64\n",
            " 17  tempo             113999 non-null  float64\n",
            " 18  time_signature    113999 non-null  int64  \n",
            " 19  track_genre       113999 non-null  object \n",
            "dtypes: bool(1), float64(9), int64(5), object(5)\n",
            "memory usage: 17.5+ MB\n"
          ]
        }
      ],
      "execution_count": 7
    },
    {
      "cell_type": "markdown",
      "source": [
        "**ГРАФИКИ**"
      ],
      "metadata": {
        "id": "0hQRk22skTNW"
      }
    },
    {
      "cell_type": "markdown",
      "source": [
        "Рассмотрим корреляцию между призниками и таргетной переменной"
      ],
      "metadata": {
        "id": "ty95oDUJkTNW"
      }
    },
    {
      "cell_type": "code",
      "source": [
        "import seaborn as sns\n",
        "import matplotlib.pyplot as plt\n",
        "sns.heatmap(spotify.corr(numeric_only = True));"
      ],
      "metadata": {
        "trusted": true,
        "execution": {
          "iopub.status.busy": "2024-12-13T11:18:44.218386Z",
          "iopub.execute_input": "2024-12-13T11:18:44.218772Z",
          "iopub.status.idle": "2024-12-13T11:18:45.196584Z",
          "shell.execute_reply.started": "2024-12-13T11:18:44.218738Z",
          "shell.execute_reply": "2024-12-13T11:18:45.195253Z"
        },
        "id": "8JacVVmLkTNW",
        "outputId": "b9b5456b-f8b1-4175-89ff-9a25ea769867"
      },
      "outputs": [
        {
          "output_type": "display_data",
          "data": {
            "text/plain": "<Figure size 640x480 with 2 Axes>",
            "image/png": "[encoded data removed]"
          },
          "metadata": {}
        }
      ],
      "execution_count": null
    },
    {
      "cell_type": "markdown",
      "source": [
        "Как видим признаки между собой сильно не коррелируют,что хорошо.Но также видно ,что не один признак сильно не коррелирует с целевой переменной,что плохо"
      ],
      "metadata": {
        "id": "AQSXVUtEkTNW"
      }
    },
    {
      "cell_type": "code",
      "source": [
        "plt.hist(spotify['popularity'],bins = 20);"
      ],
      "metadata": {
        "trusted": true,
        "execution": {
          "iopub.status.busy": "2024-12-13T11:20:13.490158Z",
          "iopub.execute_input": "2024-12-13T11:20:13.490566Z",
          "iopub.status.idle": "2024-12-13T11:20:13.706396Z",
          "shell.execute_reply.started": "2024-12-13T11:20:13.490531Z",
          "shell.execute_reply": "2024-12-13T11:20:13.705016Z"
        },
        "id": "7H4CK9KJkTNX",
        "outputId": "277f1cc8-b0eb-4df7-b538-1c1bd8174654"
      },
      "outputs": [
        {
          "output_type": "display_data",
          "data": {
            "text/plain": "<Figure size 640x480 with 1 Axes>",
            "image/png": "[encoded data removed]"
          },
          "metadata": {}
        }
      ],
      "execution_count": null
    },
    {
      "cell_type": "markdown",
      "source": [
        "Рассмотрим как нецензурная речь влияет на популярность"
      ],
      "metadata": {
        "id": "pv5XXusJkTNX"
      }
    },
    {
      "cell_type": "code",
      "source": [
        "plt.bar(spotify[\"explicit\"].unique(),spotify.groupby(\"explicit\")[\"popularity\"].mean())"
      ],
      "metadata": {
        "trusted": true,
        "execution": {
          "iopub.status.busy": "2024-12-06T12:19:56.928841Z",
          "iopub.execute_input": "2024-12-06T12:19:56.929267Z",
          "iopub.status.idle": "2024-12-06T12:19:57.184583Z",
          "shell.execute_reply.started": "2024-12-06T12:19:56.929232Z",
          "shell.execute_reply": "2024-12-06T12:19:57.183156Z"
        },
        "id": "Z9NUocQAkTNX",
        "outputId": "1f4f75ac-209b-41b3-cbec-18effd3b2c1e"
      },
      "outputs": [
        {
          "execution_count": 42,
          "output_type": "execute_result",
          "data": {
            "text/plain": "<BarContainer object of 2 artists>"
          },
          "metadata": {}
        },
        {
          "output_type": "display_data",
          "data": {
            "text/plain": "<Figure size 640x480 with 1 Axes>",
            "image/png": "[encoded data removed]"
          },
          "metadata": {}
        }
      ],
      "execution_count": null
    },
    {
      "cell_type": "markdown",
      "source": [
        "отличия есть не не такие большие"
      ],
      "metadata": {
        "id": "ZsviWIjskTNX"
      }
    },
    {
      "cell_type": "markdown",
      "source": [
        "рассмотрим взаимосвязь продолжительности песни и её популярности"
      ],
      "metadata": {
        "id": "PjETEo0dkTNX"
      }
    },
    {
      "cell_type": "code",
      "source": [
        "plt.scatter(spotify[\"duration_ms\"],spotify[\"popularity\"]);"
      ],
      "metadata": {
        "trusted": true,
        "execution": {
          "iopub.status.busy": "2024-12-06T12:20:00.004487Z",
          "iopub.execute_input": "2024-12-06T12:20:00.004996Z",
          "iopub.status.idle": "2024-12-06T12:20:00.79279Z",
          "shell.execute_reply.started": "2024-12-06T12:20:00.004954Z",
          "shell.execute_reply": "2024-12-06T12:20:00.791682Z"
        },
        "id": "PpK7knW2kTNX",
        "outputId": "02cb9ac3-e9b6-4663-a99d-72181728aa14"
      },
      "outputs": [
        {
          "output_type": "display_data",
          "data": {
            "text/plain": "<Figure size 640x480 with 1 Axes>",
            "image/png": "[encoded data removed]"
          },
          "metadata": {}
        }
      ],
      "execution_count": null
    },
    {
      "cell_type": "markdown",
      "source": [
        "как види в основном популярны песни до 2 минут,также видим наличие выбросов"
      ],
      "metadata": {
        "id": "qJ3mWdA6kTNX"
      }
    },
    {
      "cell_type": "markdown",
      "source": [
        "Рассмотрим количесво популярных артистов"
      ],
      "metadata": {
        "id": "gVxp5UxAkTNX"
      }
    },
    {
      "cell_type": "code",
      "source": [
        "\n",
        "plt.bar(sorted(list(spotify[\"popularity\"].unique())),spotify.groupby(\"popularity\",as_index = False).count()[\"artists\"]);"
      ],
      "metadata": {
        "trusted": true,
        "execution": {
          "iopub.status.busy": "2024-12-06T12:20:06.459862Z",
          "iopub.execute_input": "2024-12-06T12:20:06.460259Z",
          "iopub.status.idle": "2024-12-06T12:20:06.880838Z",
          "shell.execute_reply.started": "2024-12-06T12:20:06.460225Z",
          "shell.execute_reply": "2024-12-06T12:20:06.87976Z"
        },
        "id": "2RWmOJPtkTNX",
        "outputId": "bbfffc84-64c7-4a2b-d8df-f99bc5a84b88"
      },
      "outputs": [
        {
          "output_type": "display_data",
          "data": {
            "text/plain": "<Figure size 640x480 with 1 Axes>",
            "image/png": "[encoded data removed]"
          },
          "metadata": {}
        }
      ],
      "execution_count": null
    },
    {
      "cell_type": "markdown",
      "source": [
        "Как видим,большая часть артистов непопулярна"
      ],
      "metadata": {
        "id": "zVTAju8fkTNY"
      }
    },
    {
      "cell_type": "markdown",
      "source": [
        "Посмотрим влияет ли жанр на популярность"
      ],
      "metadata": {
        "id": "Ek_z4jUmkTNY"
      }
    },
    {
      "cell_type": "code",
      "source": [
        "fig= plt.figure(figsize = (16,9),dpi = 200)\n",
        "\n",
        "plt.bar(sorted(list(spotify[\"track_genre\"].unique())),sorted(list(spotify.groupby(\"track_genre\",as_index = False).mean()[\"popularity\"])));"
      ],
      "metadata": {
        "trusted": true,
        "execution": {
          "iopub.status.busy": "2024-12-06T12:17:46.171284Z",
          "iopub.execute_input": "2024-12-06T12:17:46.172566Z",
          "iopub.status.idle": "2024-12-06T12:17:46.901797Z",
          "shell.execute_reply.started": "2024-12-06T12:17:46.172512Z",
          "shell.execute_reply": "2024-12-06T12:17:46.900307Z"
        },
        "id": "nKxugmclkTNY",
        "outputId": "154fef7d-3a14-472f-dd7d-6ab14762d1be"
      },
      "outputs": [
        {
          "output_type": "display_data",
          "data": {
            "text/plain": "<Figure size 3200x1800 with 1 Axes>",
            "image/png": "[encoded data removed]"
          },
          "metadata": {}
        }
      ],
      "execution_count": null
    },
    {
      "cell_type": "markdown",
      "source": [
        "Да влияет,есть как популярные,так и непопулярные жанры"
      ],
      "metadata": {
        "id": "NWpUR6wtkTNY"
      }
    },
    {
      "cell_type": "markdown",
      "source": [
        "**РАБОТА С ВЫБРОСАМИ**"
      ],
      "metadata": {
        "id": "6zpfAA4DkTNZ"
      }
    },
    {
      "cell_type": "markdown",
      "source": [
        "Рассмотрим выбросы по продолжительности"
      ],
      "metadata": {
        "id": "TB5cBQfCkTNZ"
      }
    },
    {
      "cell_type": "code",
      "source": [
        "plt.boxplot(spotify[\"duration_ms\"]);"
      ],
      "metadata": {
        "trusted": true,
        "execution": {
          "iopub.status.busy": "2024-12-06T12:20:13.625309Z",
          "iopub.execute_input": "2024-12-06T12:20:13.625707Z",
          "iopub.status.idle": "2024-12-06T12:20:13.802643Z",
          "shell.execute_reply.started": "2024-12-06T12:20:13.625671Z",
          "shell.execute_reply": "2024-12-06T12:20:13.801129Z"
        },
        "id": "LEJq0yOgkTNZ",
        "outputId": "2c0bb62e-cfdd-48b7-98a8-f6847e5292f2"
      },
      "outputs": [
        {
          "output_type": "display_data",
          "data": {
            "text/plain": "<Figure size 640x480 with 1 Axes>",
            "image/png": "[encoded data removed]"
          },
          "metadata": {}
        }
      ],
      "execution_count": null
    },
    {
      "cell_type": "markdown",
      "source": [
        "на прошлых графиках мы видили,что больша часть объектов находится в диапозоне до 2х минут,поэтому график так выглядит"
      ],
      "metadata": {
        "id": "ktuML8tEkTNZ"
      }
    },
    {
      "cell_type": "markdown",
      "source": [
        "Но с выбросами все равно надо бороться,поэтому удалим 1% объектов ,которые наиболее сильно выбиваются по длительности"
      ],
      "metadata": {
        "id": "PFAjsoSykTNZ"
      }
    },
    {
      "cell_type": "code",
      "source": [
        "q = spotify[\"duration_ms\"].quantile(0.99)\n",
        "q"
      ],
      "metadata": {
        "trusted": true,
        "execution": {
          "iopub.status.busy": "2024-12-13T09:50:45.892682Z",
          "iopub.execute_input": "2024-12-13T09:50:45.893057Z",
          "iopub.status.idle": "2024-12-13T09:50:45.905309Z",
          "shell.execute_reply.started": "2024-12-13T09:50:45.893023Z",
          "shell.execute_reply": "2024-12-13T09:50:45.904145Z"
        },
        "id": "jXMyDP_0kTNZ",
        "outputId": "85ab1a60-3c51-4480-e4b6-9829318a630e"
      },
      "outputs": [
        {
          "execution_count": 5,
          "output_type": "execute_result",
          "data": {
            "text/plain": "530909.3200000006"
          },
          "metadata": {}
        }
      ],
      "execution_count": null
    },
    {
      "cell_type": "code",
      "source": [
        "spotify = spotify[spotify[\"duration_ms\"]<=q]"
      ],
      "metadata": {
        "trusted": true,
        "execution": {
          "iopub.status.busy": "2024-12-13T09:50:50.219229Z",
          "iopub.execute_input": "2024-12-13T09:50:50.219615Z",
          "iopub.status.idle": "2024-12-13T09:50:50.239733Z",
          "shell.execute_reply.started": "2024-12-13T09:50:50.21958Z",
          "shell.execute_reply": "2024-12-13T09:50:50.238626Z"
        },
        "id": "BTKokROzkTNZ"
      },
      "outputs": [],
      "execution_count": null
    },
    {
      "cell_type": "code",
      "source": [
        "spotify"
      ],
      "metadata": {
        "trusted": true,
        "execution": {
          "iopub.status.busy": "2024-12-04T19:24:17.488427Z",
          "iopub.execute_input": "2024-12-04T19:24:17.48896Z",
          "iopub.status.idle": "2024-12-04T19:24:17.517295Z",
          "shell.execute_reply.started": "2024-12-04T19:24:17.488891Z",
          "shell.execute_reply": "2024-12-04T19:24:17.516008Z"
        },
        "id": "11IuueFLkTNa",
        "outputId": "50040fe9-da17-41a9-873f-cbc4fd902f18"
      },
      "outputs": [
        {
          "execution_count": 9,
          "output_type": "execute_result",
          "data": {
            "text/plain": "                      track_id                 artists  \\\n0       5SuOikwiRyPMVoIQDJUgSV             Gen Hoshino   \n1       4qPNDBW1i3p13qLCt0Ki3A            Ben Woodward   \n2       1iJBSr7s7jYXzM8EGcbK5b  Ingrid Michaelson;ZAYN   \n3       6lfxq3CG4xtTiEg7opyCyx            Kina Grannis   \n4       5vjLSffimiIP26QG5WcN2K        Chord Overstreet   \n...                        ...                     ...   \n113995  2C3TZjDRiAzdyViavDJ217           Rainy Lullaby   \n113996  1hIz5L4IB9hN3WRYPOCGPw           Rainy Lullaby   \n113997  6x8ZfSoqDjuNa5SVP5QjvX           Cesária Evora   \n113998  2e6sXL2bYv4bSz6VTdnfLs        Michael W. Smith   \n113999  2hETkH7cOfqmz3LqZDHZf5           Cesária Evora   \n\n                                               album_name  popularity  \\\n0                                                  Comedy          73   \n1                                        Ghost (Acoustic)          55   \n2                                          To Begin Again          57   \n3       Crazy Rich Asians (Original Motion Picture Sou...          71   \n4                                                 Hold On          82   \n...                                                   ...         ...   \n113995  #mindfulness - Soft Rain for Mindful Meditatio...          21   \n113996  #mindfulness - Soft Rain for Mindful Meditatio...          22   \n113997                                            Best Of          22   \n113998                                  Change Your World          41   \n113999                                     Miss Perfumado          22   \n\n        duration_ms  explicit  danceability  key  mode  speechiness  \\\n0            230666     False         0.676    1     0       0.1430   \n1            149610     False         0.420    1     1       0.0763   \n2            210826     False         0.438    0     1       0.0557   \n3            201933     False         0.266    0     1       0.0363   \n4            198853     False         0.618    2     1       0.0526   \n...             ...       ...           ...  ...   ...          ...   \n113995       384999     False         0.172    5     1       0.0422   \n113996       385000     False         0.174    0     0       0.0401   \n113997       271466     False         0.629    0     0       0.0420   \n113998       283893     False         0.587    7     1       0.0297   \n113999       241826     False         0.526    1     0       0.0725   \n\n        acousticness  instrumentalness  liveness  valence    tempo  \\\n0             0.0322          0.000001    0.3580   0.7150   87.917   \n1             0.9240          0.000006    0.1010   0.2670   77.489   \n2             0.2100          0.000000    0.1170   0.1200   76.332   \n3             0.9050          0.000071    0.1320   0.1430  181.740   \n4             0.4690          0.000000    0.0829   0.1670  119.949   \n...              ...               ...       ...      ...      ...   \n113995        0.6400          0.928000    0.0863   0.0339  125.995   \n113996        0.9940          0.976000    0.1050   0.0350   85.239   \n113997        0.8670          0.000000    0.0839   0.7430  132.378   \n113998        0.3810          0.000000    0.2700   0.4130  135.960   \n113999        0.6810          0.000000    0.0893   0.7080   79.198   \n\n        time_signature  track_genre  energy_loudness  \n0                    4     acoustic        -3.109906  \n1                    4     acoustic        -2.861010  \n2                    4     acoustic        -3.494506  \n3                    3     acoustic        -1.103494  \n4                    4     acoustic        -4.288683  \n...                ...          ...              ...  \n113995               5  world-music        -3.852355  \n113996               4  world-music        -2.143206  \n113997               4  world-music        -3.584455  \n113998               4  world-music        -5.509834  \n113999               4  world-music        -4.969348  \n\n[108299 rows x 18 columns]",
            "text/html": "<div>\n<style scoped>\n    .dataframe tbody tr th:only-of-type {\n        vertical-align: middle;\n    }\n\n    .dataframe tbody tr th {\n        vertical-align: top;\n    }\n\n    .dataframe thead th {\n        text-align: right;\n    }\n</style>\n<table border=\"1\" class=\"dataframe\">\n  <thead>\n    <tr style=\"text-align: right;\">\n      <th></th>\n      <th>track_id</th>\n      <th>artists</th>\n      <th>album_name</th>\n      <th>popularity</th>\n      <th>duration_ms</th>\n      <th>explicit</th>\n      <th>danceability</th>\n      <th>key</th>\n      <th>mode</th>\n      <th>speechiness</th>\n      <th>acousticness</th>\n      <th>instrumentalness</th>\n      <th>liveness</th>\n      <th>valence</th>\n      <th>tempo</th>\n      <th>time_signature</th>\n      <th>track_genre</th>\n      <th>energy_loudness</th>\n    </tr>\n  </thead>\n  <tbody>\n    <tr>\n      <th>0</th>\n      <td>5SuOikwiRyPMVoIQDJUgSV</td>\n      <td>Gen Hoshino</td>\n      <td>Comedy</td>\n      <td>73</td>\n      <td>230666</td>\n      <td>False</td>\n      <td>0.676</td>\n      <td>1</td>\n      <td>0</td>\n      <td>0.1430</td>\n      <td>0.0322</td>\n      <td>0.000001</td>\n      <td>0.3580</td>\n      <td>0.7150</td>\n      <td>87.917</td>\n      <td>4</td>\n      <td>acoustic</td>\n      <td>-3.109906</td>\n    </tr>\n    <tr>\n      <th>1</th>\n      <td>4qPNDBW1i3p13qLCt0Ki3A</td>\n      <td>Ben Woodward</td>\n      <td>Ghost (Acoustic)</td>\n      <td>55</td>\n      <td>149610</td>\n      <td>False</td>\n      <td>0.420</td>\n      <td>1</td>\n      <td>1</td>\n      <td>0.0763</td>\n      <td>0.9240</td>\n      <td>0.000006</td>\n      <td>0.1010</td>\n      <td>0.2670</td>\n      <td>77.489</td>\n      <td>4</td>\n      <td>acoustic</td>\n      <td>-2.861010</td>\n    </tr>\n    <tr>\n      <th>2</th>\n      <td>1iJBSr7s7jYXzM8EGcbK5b</td>\n      <td>Ingrid Michaelson;ZAYN</td>\n      <td>To Begin Again</td>\n      <td>57</td>\n      <td>210826</td>\n      <td>False</td>\n      <td>0.438</td>\n      <td>0</td>\n      <td>1</td>\n      <td>0.0557</td>\n      <td>0.2100</td>\n      <td>0.000000</td>\n      <td>0.1170</td>\n      <td>0.1200</td>\n      <td>76.332</td>\n      <td>4</td>\n      <td>acoustic</td>\n      <td>-3.494506</td>\n    </tr>\n    <tr>\n      <th>3</th>\n      <td>6lfxq3CG4xtTiEg7opyCyx</td>\n      <td>Kina Grannis</td>\n      <td>Crazy Rich Asians (Original Motion Picture Sou...</td>\n      <td>71</td>\n      <td>201933</td>\n      <td>False</td>\n      <td>0.266</td>\n      <td>0</td>\n      <td>1</td>\n      <td>0.0363</td>\n      <td>0.9050</td>\n      <td>0.000071</td>\n      <td>0.1320</td>\n      <td>0.1430</td>\n      <td>181.740</td>\n      <td>3</td>\n      <td>acoustic</td>\n      <td>-1.103494</td>\n    </tr>\n    <tr>\n      <th>4</th>\n      <td>5vjLSffimiIP26QG5WcN2K</td>\n      <td>Chord Overstreet</td>\n      <td>Hold On</td>\n      <td>82</td>\n      <td>198853</td>\n      <td>False</td>\n      <td>0.618</td>\n      <td>2</td>\n      <td>1</td>\n      <td>0.0526</td>\n      <td>0.4690</td>\n      <td>0.000000</td>\n      <td>0.0829</td>\n      <td>0.1670</td>\n      <td>119.949</td>\n      <td>4</td>\n      <td>acoustic</td>\n      <td>-4.288683</td>\n    </tr>\n    <tr>\n      <th>...</th>\n      <td>...</td>\n      <td>...</td>\n      <td>...</td>\n      <td>...</td>\n      <td>...</td>\n      <td>...</td>\n      <td>...</td>\n      <td>...</td>\n      <td>...</td>\n      <td>...</td>\n      <td>...</td>\n      <td>...</td>\n      <td>...</td>\n      <td>...</td>\n      <td>...</td>\n      <td>...</td>\n      <td>...</td>\n      <td>...</td>\n    </tr>\n    <tr>\n      <th>113995</th>\n      <td>2C3TZjDRiAzdyViavDJ217</td>\n      <td>Rainy Lullaby</td>\n      <td>#mindfulness - Soft Rain for Mindful Meditatio...</td>\n      <td>21</td>\n      <td>384999</td>\n      <td>False</td>\n      <td>0.172</td>\n      <td>5</td>\n      <td>1</td>\n      <td>0.0422</td>\n      <td>0.6400</td>\n      <td>0.928000</td>\n      <td>0.0863</td>\n      <td>0.0339</td>\n      <td>125.995</td>\n      <td>5</td>\n      <td>world-music</td>\n      <td>-3.852355</td>\n    </tr>\n    <tr>\n      <th>113996</th>\n      <td>1hIz5L4IB9hN3WRYPOCGPw</td>\n      <td>Rainy Lullaby</td>\n      <td>#mindfulness - Soft Rain for Mindful Meditatio...</td>\n      <td>22</td>\n      <td>385000</td>\n      <td>False</td>\n      <td>0.174</td>\n      <td>0</td>\n      <td>0</td>\n      <td>0.0401</td>\n      <td>0.9940</td>\n      <td>0.976000</td>\n      <td>0.1050</td>\n      <td>0.0350</td>\n      <td>85.239</td>\n      <td>4</td>\n      <td>world-music</td>\n      <td>-2.143206</td>\n    </tr>\n    <tr>\n      <th>113997</th>\n      <td>6x8ZfSoqDjuNa5SVP5QjvX</td>\n      <td>Cesária Evora</td>\n      <td>Best Of</td>\n      <td>22</td>\n      <td>271466</td>\n      <td>False</td>\n      <td>0.629</td>\n      <td>0</td>\n      <td>0</td>\n      <td>0.0420</td>\n      <td>0.8670</td>\n      <td>0.000000</td>\n      <td>0.0839</td>\n      <td>0.7430</td>\n      <td>132.378</td>\n      <td>4</td>\n      <td>world-music</td>\n      <td>-3.584455</td>\n    </tr>\n    <tr>\n      <th>113998</th>\n      <td>2e6sXL2bYv4bSz6VTdnfLs</td>\n      <td>Michael W. Smith</td>\n      <td>Change Your World</td>\n      <td>41</td>\n      <td>283893</td>\n      <td>False</td>\n      <td>0.587</td>\n      <td>7</td>\n      <td>1</td>\n      <td>0.0297</td>\n      <td>0.3810</td>\n      <td>0.000000</td>\n      <td>0.2700</td>\n      <td>0.4130</td>\n      <td>135.960</td>\n      <td>4</td>\n      <td>world-music</td>\n      <td>-5.509834</td>\n    </tr>\n    <tr>\n      <th>113999</th>\n      <td>2hETkH7cOfqmz3LqZDHZf5</td>\n      <td>Cesária Evora</td>\n      <td>Miss Perfumado</td>\n      <td>22</td>\n      <td>241826</td>\n      <td>False</td>\n      <td>0.526</td>\n      <td>1</td>\n      <td>0</td>\n      <td>0.0725</td>\n      <td>0.6810</td>\n      <td>0.000000</td>\n      <td>0.0893</td>\n      <td>0.7080</td>\n      <td>79.198</td>\n      <td>4</td>\n      <td>world-music</td>\n      <td>-4.969348</td>\n    </tr>\n  </tbody>\n</table>\n<p>108299 rows × 18 columns</p>\n</div>"
          },
          "metadata": {}
        }
      ],
      "execution_count": null
    },
    {
      "cell_type": "markdown",
      "source": [
        "Рассмотрим выбросы по популярности"
      ],
      "metadata": {
        "id": "3Ws2DXaakTNa"
      }
    },
    {
      "cell_type": "code",
      "source": [
        "plt.boxplot(spotify[\"popularity\"]);"
      ],
      "metadata": {
        "trusted": true,
        "execution": {
          "iopub.status.busy": "2024-12-06T12:20:24.85145Z",
          "iopub.execute_input": "2024-12-06T12:20:24.85186Z",
          "iopub.status.idle": "2024-12-06T12:20:24.99532Z",
          "shell.execute_reply.started": "2024-12-06T12:20:24.851821Z",
          "shell.execute_reply": "2024-12-06T12:20:24.994032Z"
        },
        "id": "L7YhEQlXkTNa",
        "outputId": "37fa0d69-b4ee-4b84-855e-d56829373be0"
      },
      "outputs": [
        {
          "output_type": "display_data",
          "data": {
            "text/plain": "<Figure size 640x480 with 1 Axes>",
            "image/png": "[encoded data removed]"
          },
          "metadata": {}
        }
      ],
      "execution_count": null
    },
    {
      "cell_type": "markdown",
      "source": [
        "Как видим выбросов почти нет,только если популярности равна 100,удалим эти значения"
      ],
      "metadata": {
        "id": "Cl1ia57okTNa"
      }
    },
    {
      "cell_type": "code",
      "source": [],
      "metadata": {
        "trusted": true,
        "id": "60KZctLpkTNa"
      },
      "outputs": [],
      "execution_count": null
    },
    {
      "cell_type": "code",
      "source": [
        "spotify = spotify[spotify[\"popularity\"]<100]"
      ],
      "metadata": {
        "trusted": true,
        "execution": {
          "iopub.status.busy": "2024-12-13T09:50:58.410443Z",
          "iopub.execute_input": "2024-12-13T09:50:58.410866Z",
          "iopub.status.idle": "2024-12-13T09:50:58.431366Z",
          "shell.execute_reply.started": "2024-12-13T09:50:58.410802Z",
          "shell.execute_reply": "2024-12-13T09:50:58.429937Z"
        },
        "id": "-0Ef5AT3kTNa"
      },
      "outputs": [],
      "execution_count": null
    },
    {
      "cell_type": "code",
      "source": [
        "spotify.describe()"
      ],
      "metadata": {
        "trusted": true,
        "execution": {
          "iopub.status.busy": "2024-12-05T18:03:59.140351Z",
          "iopub.execute_input": "2024-12-05T18:03:59.140769Z",
          "iopub.status.idle": "2024-12-05T18:03:59.243692Z",
          "shell.execute_reply.started": "2024-12-05T18:03:59.140731Z",
          "shell.execute_reply": "2024-12-05T18:03:59.242531Z"
        },
        "id": "QJ9l8acXkTNa",
        "outputId": "60b679fd-9847-41ef-d7b3-63040b174ca3"
      },
      "outputs": [
        {
          "execution_count": 8,
          "output_type": "execute_result",
          "data": {
            "text/plain": "          popularity   duration_ms   danceability            key  \\\ncount  113997.000000  1.139970e+05  113997.000000  113997.000000   \nmean       33.237655  2.280324e+05       0.566798       5.309184   \nstd        22.303402  1.072966e+05       0.173543       3.560003   \nmin         0.000000  8.586000e+03       0.000000       0.000000   \n25%        17.000000  1.740660e+05       0.456000       2.000000   \n50%        35.000000  2.129060e+05       0.580000       5.000000   \n75%        50.000000  2.615060e+05       0.695000       8.000000   \nmax        99.000000  5.237295e+06       0.985000      11.000000   \n\n                mode    speechiness   acousticness  instrumentalness  \\\ncount  113997.000000  113997.000000  113997.000000     113997.000000   \nmean        0.637552       0.084652       0.314912          0.156054   \nstd         0.480709       0.105734       0.332523          0.309558   \nmin         0.000000       0.000000       0.000000          0.000000   \n25%         0.000000       0.035900       0.016900          0.000000   \n50%         1.000000       0.048900       0.169000          0.000042   \n75%         1.000000       0.084500       0.598000          0.049000   \nmax         1.000000       0.965000       0.996000          1.000000   \n\n            liveness        valence          tempo  time_signature  \\\ncount  113997.000000  113997.000000  113997.000000   113997.000000   \nmean        0.213553       0.474070     122.147537        3.904033   \nstd         0.190380       0.259261      29.978529        0.432626   \nmin         0.000000       0.000000       0.000000        0.000000   \n25%         0.098000       0.260000      99.218000        4.000000   \n50%         0.132000       0.464000     122.017000        4.000000   \n75%         0.273000       0.683000     140.071000        4.000000   \nmax         1.000000       0.995000     243.372000        5.000000   \n\n       energy_loudness  \ncount    113997.000000  \nmean         -4.333611  \nstd           1.884886  \nmin         -33.694192  \n25%          -5.195877  \n50%          -4.107604  \n75%          -3.221955  \nmax           4.527468  ",
            "text/html": "<div>\n<style scoped>\n    .dataframe tbody tr th:only-of-type {\n        vertical-align: middle;\n    }\n\n    .dataframe tbody tr th {\n        vertical-align: top;\n    }\n\n    .dataframe thead th {\n        text-align: right;\n    }\n</style>\n<table border=\"1\" class=\"dataframe\">\n  <thead>\n    <tr style=\"text-align: right;\">\n      <th></th>\n      <th>popularity</th>\n      <th>duration_ms</th>\n      <th>danceability</th>\n      <th>key</th>\n      <th>mode</th>\n      <th>speechiness</th>\n      <th>acousticness</th>\n      <th>instrumentalness</th>\n      <th>liveness</th>\n      <th>valence</th>\n      <th>tempo</th>\n      <th>time_signature</th>\n      <th>energy_loudness</th>\n    </tr>\n  </thead>\n  <tbody>\n    <tr>\n      <th>count</th>\n      <td>113997.000000</td>\n      <td>1.139970e+05</td>\n      <td>113997.000000</td>\n      <td>113997.000000</td>\n      <td>113997.000000</td>\n      <td>113997.000000</td>\n      <td>113997.000000</td>\n      <td>113997.000000</td>\n      <td>113997.000000</td>\n      <td>113997.000000</td>\n      <td>113997.000000</td>\n      <td>113997.000000</td>\n      <td>113997.000000</td>\n    </tr>\n    <tr>\n      <th>mean</th>\n      <td>33.237655</td>\n      <td>2.280324e+05</td>\n      <td>0.566798</td>\n      <td>5.309184</td>\n      <td>0.637552</td>\n      <td>0.084652</td>\n      <td>0.314912</td>\n      <td>0.156054</td>\n      <td>0.213553</td>\n      <td>0.474070</td>\n      <td>122.147537</td>\n      <td>3.904033</td>\n      <td>-4.333611</td>\n    </tr>\n    <tr>\n      <th>std</th>\n      <td>22.303402</td>\n      <td>1.072966e+05</td>\n      <td>0.173543</td>\n      <td>3.560003</td>\n      <td>0.480709</td>\n      <td>0.105734</td>\n      <td>0.332523</td>\n      <td>0.309558</td>\n      <td>0.190380</td>\n      <td>0.259261</td>\n      <td>29.978529</td>\n      <td>0.432626</td>\n      <td>1.884886</td>\n    </tr>\n    <tr>\n      <th>min</th>\n      <td>0.000000</td>\n      <td>8.586000e+03</td>\n      <td>0.000000</td>\n      <td>0.000000</td>\n      <td>0.000000</td>\n      <td>0.000000</td>\n      <td>0.000000</td>\n      <td>0.000000</td>\n      <td>0.000000</td>\n      <td>0.000000</td>\n      <td>0.000000</td>\n      <td>0.000000</td>\n      <td>-33.694192</td>\n    </tr>\n    <tr>\n      <th>25%</th>\n      <td>17.000000</td>\n      <td>1.740660e+05</td>\n      <td>0.456000</td>\n      <td>2.000000</td>\n      <td>0.000000</td>\n      <td>0.035900</td>\n      <td>0.016900</td>\n      <td>0.000000</td>\n      <td>0.098000</td>\n      <td>0.260000</td>\n      <td>99.218000</td>\n      <td>4.000000</td>\n      <td>-5.195877</td>\n    </tr>\n    <tr>\n      <th>50%</th>\n      <td>35.000000</td>\n      <td>2.129060e+05</td>\n      <td>0.580000</td>\n      <td>5.000000</td>\n      <td>1.000000</td>\n      <td>0.048900</td>\n      <td>0.169000</td>\n      <td>0.000042</td>\n      <td>0.132000</td>\n      <td>0.464000</td>\n      <td>122.017000</td>\n      <td>4.000000</td>\n      <td>-4.107604</td>\n    </tr>\n    <tr>\n      <th>75%</th>\n      <td>50.000000</td>\n      <td>2.615060e+05</td>\n      <td>0.695000</td>\n      <td>8.000000</td>\n      <td>1.000000</td>\n      <td>0.084500</td>\n      <td>0.598000</td>\n      <td>0.049000</td>\n      <td>0.273000</td>\n      <td>0.683000</td>\n      <td>140.071000</td>\n      <td>4.000000</td>\n      <td>-3.221955</td>\n    </tr>\n    <tr>\n      <th>max</th>\n      <td>99.000000</td>\n      <td>5.237295e+06</td>\n      <td>0.985000</td>\n      <td>11.000000</td>\n      <td>1.000000</td>\n      <td>0.965000</td>\n      <td>0.996000</td>\n      <td>1.000000</td>\n      <td>1.000000</td>\n      <td>0.995000</td>\n      <td>243.372000</td>\n      <td>5.000000</td>\n      <td>4.527468</td>\n    </tr>\n  </tbody>\n</table>\n</div>"
          },
          "metadata": {}
        }
      ],
      "execution_count": null
    },
    {
      "cell_type": "markdown",
      "source": [
        "# Создание признаков"
      ],
      "metadata": {
        "id": "Udvc-_cTkTNa"
      }
    },
    {
      "cell_type": "code",
      "source": [
        "import seaborn as sns\n",
        "\n",
        "sns.heatmap(spotify[[\"energy\",\"loudness\"]].corr(numeric_only = True));\n",
        "\n"
      ],
      "metadata": {
        "trusted": true,
        "execution": {
          "iopub.status.busy": "2024-12-06T12:20:31.530459Z",
          "iopub.execute_input": "2024-12-06T12:20:31.530972Z",
          "iopub.status.idle": "2024-12-06T12:20:31.795954Z",
          "shell.execute_reply.started": "2024-12-06T12:20:31.530909Z",
          "shell.execute_reply": "2024-12-06T12:20:31.794678Z"
        },
        "id": "B8D_lZ4okTNa",
        "outputId": "771a5ffd-0e2f-4d9c-d6a6-7a86a04095a0"
      },
      "outputs": [
        {
          "output_type": "display_data",
          "data": {
            "text/plain": "<Figure size 640x480 with 2 Axes>",
            "image/png": "[encoded data removed]"
          },
          "metadata": {}
        }
      ],
      "execution_count": null
    },
    {
      "cell_type": "code",
      "source": [
        "#spotify[\"energy_loudness\"] = spotify[\"loudness\"]*spotify[\"energy\"]\n",
        "#spotify"
      ],
      "metadata": {
        "trusted": true,
        "execution": {
          "iopub.status.busy": "2024-12-06T12:20:34.93361Z",
          "iopub.execute_input": "2024-12-06T12:20:34.934505Z",
          "iopub.status.idle": "2024-12-06T12:20:35.025469Z",
          "shell.execute_reply.started": "2024-12-06T12:20:34.934459Z",
          "shell.execute_reply": "2024-12-06T12:20:35.023792Z"
        },
        "id": "eJA8oLvzkTNa",
        "outputId": "75f79088-a86e-4463-8e65-1dfe93da2d27"
      },
      "outputs": [
        {
          "execution_count": 51,
          "output_type": "execute_result",
          "data": {
            "text/plain": "                      track_id                 artists  \\\n0       5SuOikwiRyPMVoIQDJUgSV             Gen Hoshino   \n1       4qPNDBW1i3p13qLCt0Ki3A            Ben Woodward   \n2       1iJBSr7s7jYXzM8EGcbK5b  Ingrid Michaelson;ZAYN   \n3       6lfxq3CG4xtTiEg7opyCyx            Kina Grannis   \n4       5vjLSffimiIP26QG5WcN2K        Chord Overstreet   \n...                        ...                     ...   \n113995  2C3TZjDRiAzdyViavDJ217           Rainy Lullaby   \n113996  1hIz5L4IB9hN3WRYPOCGPw           Rainy Lullaby   \n113997  6x8ZfSoqDjuNa5SVP5QjvX           Cesária Evora   \n113998  2e6sXL2bYv4bSz6VTdnfLs        Michael W. Smith   \n113999  2hETkH7cOfqmz3LqZDHZf5           Cesária Evora   \n\n                                               album_name  \\\n0                                                  Comedy   \n1                                        Ghost (Acoustic)   \n2                                          To Begin Again   \n3       Crazy Rich Asians (Original Motion Picture Sou...   \n4                                                 Hold On   \n...                                                   ...   \n113995  #mindfulness - Soft Rain for Mindful Meditatio...   \n113996  #mindfulness - Soft Rain for Mindful Meditatio...   \n113997                                            Best Of   \n113998                                  Change Your World   \n113999                                     Miss Perfumado   \n\n                        track_name  popularity  duration_ms  explicit  \\\n0                           Comedy          73       230666     False   \n1                 Ghost - Acoustic          55       149610     False   \n2                   To Begin Again          57       210826     False   \n3       Can't Help Falling In Love          71       201933     False   \n4                          Hold On          82       198853     False   \n...                            ...         ...          ...       ...   \n113995         Sleep My Little Boy          21       384999     False   \n113996            Water Into Light          22       385000     False   \n113997              Miss Perfumado          22       271466     False   \n113998                     Friends          41       283893     False   \n113999                   Barbincor          22       241826     False   \n\n        danceability  energy  key  ...  mode  speechiness  acousticness  \\\n0              0.676  0.4610    1  ...     0       0.1430        0.0322   \n1              0.420  0.1660    1  ...     1       0.0763        0.9240   \n2              0.438  0.3590    0  ...     1       0.0557        0.2100   \n3              0.266  0.0596    0  ...     1       0.0363        0.9050   \n4              0.618  0.4430    2  ...     1       0.0526        0.4690   \n...              ...     ...  ...  ...   ...          ...           ...   \n113995         0.172  0.2350    5  ...     1       0.0422        0.6400   \n113996         0.174  0.1170    0  ...     0       0.0401        0.9940   \n113997         0.629  0.3290    0  ...     0       0.0420        0.8670   \n113998         0.587  0.5060    7  ...     1       0.0297        0.3810   \n113999         0.526  0.4870    1  ...     0       0.0725        0.6810   \n\n        instrumentalness  liveness  valence    tempo  time_signature  \\\n0               0.000001    0.3580   0.7150   87.917               4   \n1               0.000006    0.1010   0.2670   77.489               4   \n2               0.000000    0.1170   0.1200   76.332               4   \n3               0.000071    0.1320   0.1430  181.740               3   \n4               0.000000    0.0829   0.1670  119.949               4   \n...                  ...       ...      ...      ...             ...   \n113995          0.928000    0.0863   0.0339  125.995               5   \n113996          0.976000    0.1050   0.0350   85.239               4   \n113997          0.000000    0.0839   0.7430  132.378               4   \n113998          0.000000    0.2700   0.4130  135.960               4   \n113999          0.000000    0.0893   0.7080   79.198               4   \n\n        track_genre energy_loudness  \n0          acoustic       -3.109906  \n1          acoustic       -2.861010  \n2          acoustic       -3.494506  \n3          acoustic       -1.103494  \n4          acoustic       -4.288683  \n...             ...             ...  \n113995  world-music       -3.852355  \n113996  world-music       -2.143206  \n113997  world-music       -3.584455  \n113998  world-music       -5.509834  \n113999  world-music       -4.969348  \n\n[112857 rows x 21 columns]",
            "text/html": "<div>\n<style scoped>\n    .dataframe tbody tr th:only-of-type {\n        vertical-align: middle;\n    }\n\n    .dataframe tbody tr th {\n        vertical-align: top;\n    }\n\n    .dataframe thead th {\n        text-align: right;\n    }\n</style>\n<table border=\"1\" class=\"dataframe\">\n  <thead>\n    <tr style=\"text-align: right;\">\n      <th></th>\n      <th>track_id</th>\n      <th>artists</th>\n      <th>album_name</th>\n      <th>track_name</th>\n      <th>popularity</th>\n      <th>duration_ms</th>\n      <th>explicit</th>\n      <th>danceability</th>\n      <th>energy</th>\n      <th>key</th>\n      <th>...</th>\n      <th>mode</th>\n      <th>speechiness</th>\n      <th>acousticness</th>\n      <th>instrumentalness</th>\n      <th>liveness</th>\n      <th>valence</th>\n      <th>tempo</th>\n      <th>time_signature</th>\n      <th>track_genre</th>\n      <th>energy_loudness</th>\n    </tr>\n  </thead>\n  <tbody>\n    <tr>\n      <th>0</th>\n      <td>5SuOikwiRyPMVoIQDJUgSV</td>\n      <td>Gen Hoshino</td>\n      <td>Comedy</td>\n      <td>Comedy</td>\n      <td>73</td>\n      <td>230666</td>\n      <td>False</td>\n      <td>0.676</td>\n      <td>0.4610</td>\n      <td>1</td>\n      <td>...</td>\n      <td>0</td>\n      <td>0.1430</td>\n      <td>0.0322</td>\n      <td>0.000001</td>\n      <td>0.3580</td>\n      <td>0.7150</td>\n      <td>87.917</td>\n      <td>4</td>\n      <td>acoustic</td>\n      <td>-3.109906</td>\n    </tr>\n    <tr>\n      <th>1</th>\n      <td>4qPNDBW1i3p13qLCt0Ki3A</td>\n      <td>Ben Woodward</td>\n      <td>Ghost (Acoustic)</td>\n      <td>Ghost - Acoustic</td>\n      <td>55</td>\n      <td>149610</td>\n      <td>False</td>\n      <td>0.420</td>\n      <td>0.1660</td>\n      <td>1</td>\n      <td>...</td>\n      <td>1</td>\n      <td>0.0763</td>\n      <td>0.9240</td>\n      <td>0.000006</td>\n      <td>0.1010</td>\n      <td>0.2670</td>\n      <td>77.489</td>\n      <td>4</td>\n      <td>acoustic</td>\n      <td>-2.861010</td>\n    </tr>\n    <tr>\n      <th>2</th>\n      <td>1iJBSr7s7jYXzM8EGcbK5b</td>\n      <td>Ingrid Michaelson;ZAYN</td>\n      <td>To Begin Again</td>\n      <td>To Begin Again</td>\n      <td>57</td>\n      <td>210826</td>\n      <td>False</td>\n      <td>0.438</td>\n      <td>0.3590</td>\n      <td>0</td>\n      <td>...</td>\n      <td>1</td>\n      <td>0.0557</td>\n      <td>0.2100</td>\n      <td>0.000000</td>\n      <td>0.1170</td>\n      <td>0.1200</td>\n      <td>76.332</td>\n      <td>4</td>\n      <td>acoustic</td>\n      <td>-3.494506</td>\n    </tr>\n    <tr>\n      <th>3</th>\n      <td>6lfxq3CG4xtTiEg7opyCyx</td>\n      <td>Kina Grannis</td>\n      <td>Crazy Rich Asians (Original Motion Picture Sou...</td>\n      <td>Can't Help Falling In Love</td>\n      <td>71</td>\n      <td>201933</td>\n      <td>False</td>\n      <td>0.266</td>\n      <td>0.0596</td>\n      <td>0</td>\n      <td>...</td>\n      <td>1</td>\n      <td>0.0363</td>\n      <td>0.9050</td>\n      <td>0.000071</td>\n      <td>0.1320</td>\n      <td>0.1430</td>\n      <td>181.740</td>\n      <td>3</td>\n      <td>acoustic</td>\n      <td>-1.103494</td>\n    </tr>\n    <tr>\n      <th>4</th>\n      <td>5vjLSffimiIP26QG5WcN2K</td>\n      <td>Chord Overstreet</td>\n      <td>Hold On</td>\n      <td>Hold On</td>\n      <td>82</td>\n      <td>198853</td>\n      <td>False</td>\n      <td>0.618</td>\n      <td>0.4430</td>\n      <td>2</td>\n      <td>...</td>\n      <td>1</td>\n      <td>0.0526</td>\n      <td>0.4690</td>\n      <td>0.000000</td>\n      <td>0.0829</td>\n      <td>0.1670</td>\n      <td>119.949</td>\n      <td>4</td>\n      <td>acoustic</td>\n      <td>-4.288683</td>\n    </tr>\n    <tr>\n      <th>...</th>\n      <td>...</td>\n      <td>...</td>\n      <td>...</td>\n      <td>...</td>\n      <td>...</td>\n      <td>...</td>\n      <td>...</td>\n      <td>...</td>\n      <td>...</td>\n      <td>...</td>\n      <td>...</td>\n      <td>...</td>\n      <td>...</td>\n      <td>...</td>\n      <td>...</td>\n      <td>...</td>\n      <td>...</td>\n      <td>...</td>\n      <td>...</td>\n      <td>...</td>\n      <td>...</td>\n    </tr>\n    <tr>\n      <th>113995</th>\n      <td>2C3TZjDRiAzdyViavDJ217</td>\n      <td>Rainy Lullaby</td>\n      <td>#mindfulness - Soft Rain for Mindful Meditatio...</td>\n      <td>Sleep My Little Boy</td>\n      <td>21</td>\n      <td>384999</td>\n      <td>False</td>\n      <td>0.172</td>\n      <td>0.2350</td>\n      <td>5</td>\n      <td>...</td>\n      <td>1</td>\n      <td>0.0422</td>\n      <td>0.6400</td>\n      <td>0.928000</td>\n      <td>0.0863</td>\n      <td>0.0339</td>\n      <td>125.995</td>\n      <td>5</td>\n      <td>world-music</td>\n      <td>-3.852355</td>\n    </tr>\n    <tr>\n      <th>113996</th>\n      <td>1hIz5L4IB9hN3WRYPOCGPw</td>\n      <td>Rainy Lullaby</td>\n      <td>#mindfulness - Soft Rain for Mindful Meditatio...</td>\n      <td>Water Into Light</td>\n      <td>22</td>\n      <td>385000</td>\n      <td>False</td>\n      <td>0.174</td>\n      <td>0.1170</td>\n      <td>0</td>\n      <td>...</td>\n      <td>0</td>\n      <td>0.0401</td>\n      <td>0.9940</td>\n      <td>0.976000</td>\n      <td>0.1050</td>\n      <td>0.0350</td>\n      <td>85.239</td>\n      <td>4</td>\n      <td>world-music</td>\n      <td>-2.143206</td>\n    </tr>\n    <tr>\n      <th>113997</th>\n      <td>6x8ZfSoqDjuNa5SVP5QjvX</td>\n      <td>Cesária Evora</td>\n      <td>Best Of</td>\n      <td>Miss Perfumado</td>\n      <td>22</td>\n      <td>271466</td>\n      <td>False</td>\n      <td>0.629</td>\n      <td>0.3290</td>\n      <td>0</td>\n      <td>...</td>\n      <td>0</td>\n      <td>0.0420</td>\n      <td>0.8670</td>\n      <td>0.000000</td>\n      <td>0.0839</td>\n      <td>0.7430</td>\n      <td>132.378</td>\n      <td>4</td>\n      <td>world-music</td>\n      <td>-3.584455</td>\n    </tr>\n    <tr>\n      <th>113998</th>\n      <td>2e6sXL2bYv4bSz6VTdnfLs</td>\n      <td>Michael W. Smith</td>\n      <td>Change Your World</td>\n      <td>Friends</td>\n      <td>41</td>\n      <td>283893</td>\n      <td>False</td>\n      <td>0.587</td>\n      <td>0.5060</td>\n      <td>7</td>\n      <td>...</td>\n      <td>1</td>\n      <td>0.0297</td>\n      <td>0.3810</td>\n      <td>0.000000</td>\n      <td>0.2700</td>\n      <td>0.4130</td>\n      <td>135.960</td>\n      <td>4</td>\n      <td>world-music</td>\n      <td>-5.509834</td>\n    </tr>\n    <tr>\n      <th>113999</th>\n      <td>2hETkH7cOfqmz3LqZDHZf5</td>\n      <td>Cesária Evora</td>\n      <td>Miss Perfumado</td>\n      <td>Barbincor</td>\n      <td>22</td>\n      <td>241826</td>\n      <td>False</td>\n      <td>0.526</td>\n      <td>0.4870</td>\n      <td>1</td>\n      <td>...</td>\n      <td>0</td>\n      <td>0.0725</td>\n      <td>0.6810</td>\n      <td>0.000000</td>\n      <td>0.0893</td>\n      <td>0.7080</td>\n      <td>79.198</td>\n      <td>4</td>\n      <td>world-music</td>\n      <td>-4.969348</td>\n    </tr>\n  </tbody>\n</table>\n<p>112857 rows × 21 columns</p>\n</div>"
          },
          "metadata": {}
        }
      ],
      "execution_count": null
    },
    {
      "cell_type": "code",
      "source": [
        "spotify = spotify.drop([\"energy\"],axis = 1)"
      ],
      "metadata": {
        "trusted": true,
        "execution": {
          "iopub.status.busy": "2024-12-13T09:51:12.112779Z",
          "iopub.execute_input": "2024-12-13T09:51:12.113147Z",
          "iopub.status.idle": "2024-12-13T09:51:12.13138Z",
          "shell.execute_reply.started": "2024-12-13T09:51:12.113116Z",
          "shell.execute_reply": "2024-12-13T09:51:12.129663Z"
        },
        "id": "e2zmy4BjkTNa"
      },
      "outputs": [],
      "execution_count": null
    },
    {
      "cell_type": "code",
      "source": [
        "spotify = spotify.drop(\"track_name\",axis = 1)"
      ],
      "metadata": {
        "trusted": true,
        "execution": {
          "iopub.status.busy": "2024-12-13T09:51:15.04657Z",
          "iopub.execute_input": "2024-12-13T09:51:15.046955Z",
          "iopub.status.idle": "2024-12-13T09:51:15.063051Z",
          "shell.execute_reply.started": "2024-12-13T09:51:15.046918Z",
          "shell.execute_reply": "2024-12-13T09:51:15.061713Z"
        },
        "id": "1OR0XV2WkTNa"
      },
      "outputs": [],
      "execution_count": null
    },
    {
      "cell_type": "markdown",
      "source": [
        "# *ОБУЧЕНИЕ МОДЕЛЕЙ*\n"
      ],
      "metadata": {
        "id": "WEctpkztkTNa"
      }
    },
    {
      "cell_type": "code",
      "source": [
        "from sklearn.preprocessing import LabelEncoder\n",
        "categorial_col = spotify.select_dtypes(include=['object']).columns\n",
        "for col in categorial_col:\n",
        "    le = LabelEncoder()\n",
        "    spotify[col] = le.fit_transform(spotify[col])\n",
        "spotify"
      ],
      "metadata": {
        "trusted": true,
        "execution": {
          "iopub.status.busy": "2024-12-13T09:51:18.147246Z",
          "iopub.execute_input": "2024-12-13T09:51:18.147635Z",
          "iopub.status.idle": "2024-12-13T09:51:19.190942Z",
          "shell.execute_reply.started": "2024-12-13T09:51:18.147598Z",
          "shell.execute_reply": "2024-12-13T09:51:19.189606Z"
        },
        "id": "2v56TAoEkTNa",
        "outputId": "fc559c4d-8164-4455-a56d-638e5e5e82c6"
      },
      "outputs": [
        {
          "execution_count": 10,
          "output_type": "execute_result",
          "data": {
            "text/plain": "        track_id  artists  album_name  popularity  duration_ms  explicit  \\\n0          62110    10283        8025          73       230666     False   \n1          55021     3267       14660          55       149610     False   \n2          19515    12303       38804          57       210826     False   \n3          77024    14732        8499          71       201933     False   \n4          67435     5215       16750          82       198853     False   \n...          ...      ...         ...         ...          ...       ...   \n113995     24890    22324          65          21       384999     False   \n113996     19333    22324          65          22       385000     False   \n113997     79184     4914        4979          22       271466     False   \n113998     30083    18403        7168          41       283893     False   \n113999     30698     4914       24147          22       241826     False   \n\n        danceability  key  loudness  mode  speechiness  acousticness  \\\n0              0.676    1    -6.746     0       0.1430        0.0322   \n1              0.420    1   -17.235     1       0.0763        0.9240   \n2              0.438    0    -9.734     1       0.0557        0.2100   \n3              0.266    0   -18.515     1       0.0363        0.9050   \n4              0.618    2    -9.681     1       0.0526        0.4690   \n...              ...  ...       ...   ...          ...           ...   \n113995         0.172    5   -16.393     1       0.0422        0.6400   \n113996         0.174    0   -18.318     0       0.0401        0.9940   \n113997         0.629    0   -10.895     0       0.0420        0.8670   \n113998         0.587    7   -10.889     1       0.0297        0.3810   \n113999         0.526    1   -10.204     0       0.0725        0.6810   \n\n        instrumentalness  liveness  valence    tempo  time_signature  \\\n0               0.000001    0.3580   0.7150   87.917               4   \n1               0.000006    0.1010   0.2670   77.489               4   \n2               0.000000    0.1170   0.1200   76.332               4   \n3               0.000071    0.1320   0.1430  181.740               3   \n4               0.000000    0.0829   0.1670  119.949               4   \n...                  ...       ...      ...      ...             ...   \n113995          0.928000    0.0863   0.0339  125.995               5   \n113996          0.976000    0.1050   0.0350   85.239               4   \n113997          0.000000    0.0839   0.7430  132.378               4   \n113998          0.000000    0.2700   0.4130  135.960               4   \n113999          0.000000    0.0893   0.7080   79.198               4   \n\n        track_genre  \n0                 0  \n1                 0  \n2                 0  \n3                 0  \n4                 0  \n...             ...  \n113995          113  \n113996          113  \n113997          113  \n113998          113  \n113999          113  \n\n[112857 rows x 18 columns]",
            "text/html": "<div>\n<style scoped>\n    .dataframe tbody tr th:only-of-type {\n        vertical-align: middle;\n    }\n\n    .dataframe tbody tr th {\n        vertical-align: top;\n    }\n\n    .dataframe thead th {\n        text-align: right;\n    }\n</style>\n<table border=\"1\" class=\"dataframe\">\n  <thead>\n    <tr style=\"text-align: right;\">\n      <th></th>\n      <th>track_id</th>\n      <th>artists</th>\n      <th>album_name</th>\n      <th>popularity</th>\n      <th>duration_ms</th>\n      <th>explicit</th>\n      <th>danceability</th>\n      <th>key</th>\n      <th>loudness</th>\n      <th>mode</th>\n      <th>speechiness</th>\n      <th>acousticness</th>\n      <th>instrumentalness</th>\n      <th>liveness</th>\n      <th>valence</th>\n      <th>tempo</th>\n      <th>time_signature</th>\n      <th>track_genre</th>\n    </tr>\n  </thead>\n  <tbody>\n    <tr>\n      <th>0</th>\n      <td>62110</td>\n      <td>10283</td>\n      <td>8025</td>\n      <td>73</td>\n      <td>230666</td>\n      <td>False</td>\n      <td>0.676</td>\n      <td>1</td>\n      <td>-6.746</td>\n      <td>0</td>\n      <td>0.1430</td>\n      <td>0.0322</td>\n      <td>0.000001</td>\n      <td>0.3580</td>\n      <td>0.7150</td>\n      <td>87.917</td>\n      <td>4</td>\n      <td>0</td>\n    </tr>\n    <tr>\n      <th>1</th>\n      <td>55021</td>\n      <td>3267</td>\n      <td>14660</td>\n      <td>55</td>\n      <td>149610</td>\n      <td>False</td>\n      <td>0.420</td>\n      <td>1</td>\n      <td>-17.235</td>\n      <td>1</td>\n      <td>0.0763</td>\n      <td>0.9240</td>\n      <td>0.000006</td>\n      <td>0.1010</td>\n      <td>0.2670</td>\n      <td>77.489</td>\n      <td>4</td>\n      <td>0</td>\n    </tr>\n    <tr>\n      <th>2</th>\n      <td>19515</td>\n      <td>12303</td>\n      <td>38804</td>\n      <td>57</td>\n      <td>210826</td>\n      <td>False</td>\n      <td>0.438</td>\n      <td>0</td>\n      <td>-9.734</td>\n      <td>1</td>\n      <td>0.0557</td>\n      <td>0.2100</td>\n      <td>0.000000</td>\n      <td>0.1170</td>\n      <td>0.1200</td>\n      <td>76.332</td>\n      <td>4</td>\n      <td>0</td>\n    </tr>\n    <tr>\n      <th>3</th>\n      <td>77024</td>\n      <td>14732</td>\n      <td>8499</td>\n      <td>71</td>\n      <td>201933</td>\n      <td>False</td>\n      <td>0.266</td>\n      <td>0</td>\n      <td>-18.515</td>\n      <td>1</td>\n      <td>0.0363</td>\n      <td>0.9050</td>\n      <td>0.000071</td>\n      <td>0.1320</td>\n      <td>0.1430</td>\n      <td>181.740</td>\n      <td>3</td>\n      <td>0</td>\n    </tr>\n    <tr>\n      <th>4</th>\n      <td>67435</td>\n      <td>5215</td>\n      <td>16750</td>\n      <td>82</td>\n      <td>198853</td>\n      <td>False</td>\n      <td>0.618</td>\n      <td>2</td>\n      <td>-9.681</td>\n      <td>1</td>\n      <td>0.0526</td>\n      <td>0.4690</td>\n      <td>0.000000</td>\n      <td>0.0829</td>\n      <td>0.1670</td>\n      <td>119.949</td>\n      <td>4</td>\n      <td>0</td>\n    </tr>\n    <tr>\n      <th>...</th>\n      <td>...</td>\n      <td>...</td>\n      <td>...</td>\n      <td>...</td>\n      <td>...</td>\n      <td>...</td>\n      <td>...</td>\n      <td>...</td>\n      <td>...</td>\n      <td>...</td>\n      <td>...</td>\n      <td>...</td>\n      <td>...</td>\n      <td>...</td>\n      <td>...</td>\n      <td>...</td>\n      <td>...</td>\n      <td>...</td>\n    </tr>\n    <tr>\n      <th>113995</th>\n      <td>24890</td>\n      <td>22324</td>\n      <td>65</td>\n      <td>21</td>\n      <td>384999</td>\n      <td>False</td>\n      <td>0.172</td>\n      <td>5</td>\n      <td>-16.393</td>\n      <td>1</td>\n      <td>0.0422</td>\n      <td>0.6400</td>\n      <td>0.928000</td>\n      <td>0.0863</td>\n      <td>0.0339</td>\n      <td>125.995</td>\n      <td>5</td>\n      <td>113</td>\n    </tr>\n    <tr>\n      <th>113996</th>\n      <td>19333</td>\n      <td>22324</td>\n      <td>65</td>\n      <td>22</td>\n      <td>385000</td>\n      <td>False</td>\n      <td>0.174</td>\n      <td>0</td>\n      <td>-18.318</td>\n      <td>0</td>\n      <td>0.0401</td>\n      <td>0.9940</td>\n      <td>0.976000</td>\n      <td>0.1050</td>\n      <td>0.0350</td>\n      <td>85.239</td>\n      <td>4</td>\n      <td>113</td>\n    </tr>\n    <tr>\n      <th>113997</th>\n      <td>79184</td>\n      <td>4914</td>\n      <td>4979</td>\n      <td>22</td>\n      <td>271466</td>\n      <td>False</td>\n      <td>0.629</td>\n      <td>0</td>\n      <td>-10.895</td>\n      <td>0</td>\n      <td>0.0420</td>\n      <td>0.8670</td>\n      <td>0.000000</td>\n      <td>0.0839</td>\n      <td>0.7430</td>\n      <td>132.378</td>\n      <td>4</td>\n      <td>113</td>\n    </tr>\n    <tr>\n      <th>113998</th>\n      <td>30083</td>\n      <td>18403</td>\n      <td>7168</td>\n      <td>41</td>\n      <td>283893</td>\n      <td>False</td>\n      <td>0.587</td>\n      <td>7</td>\n      <td>-10.889</td>\n      <td>1</td>\n      <td>0.0297</td>\n      <td>0.3810</td>\n      <td>0.000000</td>\n      <td>0.2700</td>\n      <td>0.4130</td>\n      <td>135.960</td>\n      <td>4</td>\n      <td>113</td>\n    </tr>\n    <tr>\n      <th>113999</th>\n      <td>30698</td>\n      <td>4914</td>\n      <td>24147</td>\n      <td>22</td>\n      <td>241826</td>\n      <td>False</td>\n      <td>0.526</td>\n      <td>1</td>\n      <td>-10.204</td>\n      <td>0</td>\n      <td>0.0725</td>\n      <td>0.6810</td>\n      <td>0.000000</td>\n      <td>0.0893</td>\n      <td>0.7080</td>\n      <td>79.198</td>\n      <td>4</td>\n      <td>113</td>\n    </tr>\n  </tbody>\n</table>\n<p>112857 rows × 18 columns</p>\n</div>"
          },
          "metadata": {}
        }
      ],
      "execution_count": null
    },
    {
      "cell_type": "code",
      "source": [
        "spotify = spotify.drop(\"track_id\",axis =1)"
      ],
      "metadata": {
        "trusted": true,
        "execution": {
          "iopub.status.busy": "2024-12-13T09:51:23.724237Z",
          "iopub.execute_input": "2024-12-13T09:51:23.724807Z",
          "iopub.status.idle": "2024-12-13T09:51:23.735489Z",
          "shell.execute_reply.started": "2024-12-13T09:51:23.724766Z",
          "shell.execute_reply": "2024-12-13T09:51:23.734275Z"
        },
        "id": "gPmqrnX4kTNb"
      },
      "outputs": [],
      "execution_count": null
    },
    {
      "cell_type": "markdown",
      "source": [
        "**ЛИНЕЙНЫЕ МОДЕЛИ**"
      ],
      "metadata": {
        "id": "4XXhPe28kTNb"
      }
    },
    {
      "cell_type": "code",
      "source": [
        "\n",
        "from sklearn.model_selection import train_test_split\n",
        "\n",
        "\n",
        "X = spotify.drop(\"popularity\",axis =1)\n",
        "Y = spotify[\"popularity\"]\n",
        "X_train, X_test, y_train, y_test = train_test_split(\n",
        "    X, Y, test_size=0.2, random_state=42)\n"
      ],
      "metadata": {
        "trusted": true,
        "execution": {
          "iopub.status.busy": "2024-12-06T12:21:01.922088Z",
          "iopub.execute_input": "2024-12-06T12:21:01.922522Z",
          "iopub.status.idle": "2024-12-06T12:21:02.082772Z",
          "shell.execute_reply.started": "2024-12-06T12:21:01.922485Z",
          "shell.execute_reply": "2024-12-06T12:21:02.081675Z"
        },
        "id": "mC_EmksWkTNb"
      },
      "outputs": [],
      "execution_count": null
    },
    {
      "cell_type": "code",
      "source": [
        "from sklearn.linear_model import LinearRegression\n",
        "from sklearn.preprocessing import StandardScaler\n",
        "from sklearn.metrics import mean_absolute_percentage_error,mean_squared_error,mean_squared_error,mean_absolute_error\n",
        "\n",
        "scaler = StandardScaler()\n",
        "model = LinearRegression()\n",
        "X_train = scaler.fit_transform(X_train)\n",
        "X_test =  scaler.fit_transform(X_test)\n",
        "model.fit(X_train,y_train)\n",
        "\n",
        "\n",
        "print(f\"MSE: {mean_squared_error(model.predict(X_test),y_test)}\")\n",
        "print(f\"RMSE: {mean_squared_error(model.predict(X_test),y_test)**0.5}\")\n",
        "print(f\"MAE: {mean_absolute_error(model.predict(X_test),y_test)}\")"
      ],
      "metadata": {
        "trusted": true,
        "execution": {
          "iopub.status.busy": "2024-12-06T12:21:15.97455Z",
          "iopub.execute_input": "2024-12-06T12:21:15.975064Z",
          "iopub.status.idle": "2024-12-06T12:21:16.087781Z",
          "shell.execute_reply.started": "2024-12-06T12:21:15.974981Z",
          "shell.execute_reply": "2024-12-06T12:21:16.08473Z"
        },
        "id": "fGIFYpDbkTNb",
        "outputId": "e8da92c6-690d-4c7b-cbf7-71924691ca31"
      },
      "outputs": [
        {
          "name": "stdout",
          "text": "MSE: 481.1998358121927\nRMSE: 21.936267590731855\nMAE: 18.29683446509553\n",
          "output_type": "stream"
        }
      ],
      "execution_count": null
    },
    {
      "cell_type": "markdown",
      "source": [
        "попробовал добавить полиномиальные признаки 2 степени"
      ],
      "metadata": {
        "id": "He0A0gEmkTNb"
      }
    },
    {
      "cell_type": "code",
      "source": [
        "from sklearn.model_selection import train_test_split\n",
        "from sklearn.preprocessing import PolynomialFeatures\n",
        "poly = PolynomialFeatures(degree = 2)\n",
        "#spotify[\"oth\"]  = spotify[\"popularity\"]/spotify[\"duration_ms\"]\n",
        "\n",
        "X = spotify.drop(\"popularity\",axis =1)\n",
        "X  =poly.fit_transform(X)\n",
        "Y = spotify[\"popularity\"]\n",
        "X_train, X_test, y_train, y_test = train_test_split(\n",
        "    X, Y, test_size=0.2, random_state=42)"
      ],
      "metadata": {
        "trusted": true,
        "execution": {
          "iopub.status.busy": "2024-12-06T12:21:25.27144Z",
          "iopub.execute_input": "2024-12-06T12:21:25.271864Z",
          "iopub.status.idle": "2024-12-06T12:21:25.634263Z",
          "shell.execute_reply.started": "2024-12-06T12:21:25.271826Z",
          "shell.execute_reply": "2024-12-06T12:21:25.63291Z"
        },
        "id": "HfuryFR6kTNb"
      },
      "outputs": [],
      "execution_count": null
    },
    {
      "cell_type": "code",
      "source": [
        "from sklearn.linear_model import LinearRegression\n",
        "from sklearn.preprocessing import StandardScaler\n",
        "from sklearn.metrics import mean_squared_error,mean_absolute_error\n",
        "\n",
        "scaler = StandardScaler()\n",
        "model = LinearRegression()\n",
        "X_train = scaler.fit_transform(X_train)\n",
        "X_test =  scaler.fit_transform(X_test)\n",
        "model.fit(X_train,y_train)\n",
        "\n",
        "\n",
        "print(f\"MSE: {mean_squared_error(model.predict(X_test),y_test)}\")\n",
        "print(f\"RMSE: {mean_squared_error(model.predict(X_test),y_test)**0.5}\")\n",
        "print(f\"MAE: {mean_absolute_error(model.predict(X_test),y_test)}\")"
      ],
      "metadata": {
        "trusted": true,
        "execution": {
          "iopub.status.busy": "2024-12-06T12:21:35.250684Z",
          "iopub.execute_input": "2024-12-06T12:21:35.251217Z",
          "iopub.status.idle": "2024-12-06T12:21:36.935134Z",
          "shell.execute_reply.started": "2024-12-06T12:21:35.251173Z",
          "shell.execute_reply": "2024-12-06T12:21:36.933209Z"
        },
        "id": "MTFcFD2jkTNb",
        "outputId": "86b8662e-f327-4ecb-990f-82f57377391d"
      },
      "outputs": [
        {
          "name": "stdout",
          "text": "MSE: 459.55246344793017\nRMSE: 21.43717480098369\nMAE: 17.612421753335802\n",
          "output_type": "stream"
        }
      ],
      "execution_count": null
    },
    {
      "cell_type": "markdown",
      "source": [
        "Есть незначительный прирост"
      ],
      "metadata": {
        "id": "drIBPBhykTNb"
      }
    },
    {
      "cell_type": "markdown",
      "source": [
        "попробовал 3 степень"
      ],
      "metadata": {
        "id": "jXlvJ1wJkTNb"
      }
    },
    {
      "cell_type": "code",
      "source": [
        "from sklearn.model_selection import train_test_split\n",
        "from sklearn.preprocessing import PolynomialFeatures\n",
        "poly = PolynomialFeatures(degree = 3)\n",
        "#spotify[\"oth\"]  = spotify[\"popularity\"]/spotify[\"duration_ms\"]\n",
        "\n",
        "X = spotify.drop(\"popularity\",axis =1)\n",
        "X  =poly.fit_transform(X)\n",
        "Y = spotify[\"popularity\"]\n",
        "X_train, X_test, y_train, y_test = train_test_split(\n",
        "    X, Y, test_size=0.2, random_state=42)"
      ],
      "metadata": {
        "trusted": true,
        "execution": {
          "iopub.status.busy": "2024-12-06T12:21:39.737292Z",
          "iopub.execute_input": "2024-12-06T12:21:39.737825Z",
          "iopub.status.idle": "2024-12-06T12:21:41.377135Z",
          "shell.execute_reply.started": "2024-12-06T12:21:39.737786Z",
          "shell.execute_reply": "2024-12-06T12:21:41.375921Z"
        },
        "id": "vldzQDaGkTNb"
      },
      "outputs": [],
      "execution_count": null
    },
    {
      "cell_type": "code",
      "source": [
        "from sklearn.linear_model import LinearRegression\n",
        "from sklearn.preprocessing import StandardScaler\n",
        "from sklearn.metrics import mean_squared_error,mean_absolute_error\n",
        "\n",
        "scaler = StandardScaler()\n",
        "model = LinearRegression()\n",
        "X_train = scaler.fit_transform(X_train)\n",
        "X_test =  scaler.fit_transform(X_test)\n",
        "model.fit(X_train,y_train)\n",
        "\n",
        "\n",
        "print(f\"MSE: {mean_squared_error(model.predict(X_test),y_test)}\")\n",
        "print(f\"RMSE: {mean_squared_error(model.predict(X_test),y_test)**0.5}\")\n",
        "print(f\"MAE: {mean_absolute_error(model.predict(X_test),y_test)}\")"
      ],
      "metadata": {
        "trusted": true,
        "execution": {
          "iopub.status.busy": "2024-12-06T12:22:11.001929Z",
          "iopub.execute_input": "2024-12-06T12:22:11.002399Z",
          "iopub.status.idle": "2024-12-06T12:22:23.839478Z",
          "shell.execute_reply.started": "2024-12-06T12:22:11.002362Z",
          "shell.execute_reply": "2024-12-06T12:22:23.837577Z"
        },
        "id": "ggxgGWTCkTNb",
        "outputId": "e7127e40-1fba-4537-d52c-4de5683803fd"
      },
      "outputs": [
        {
          "name": "stdout",
          "text": "MSE: 441.2204880386166\nRMSE: 21.00524905919034\nMAE: 17.100576628587074\n",
          "output_type": "stream"
        }
      ],
      "execution_count": null
    },
    {
      "cell_type": "markdown",
      "source": [
        "также незначительный прирост"
      ],
      "metadata": {
        "id": "x-GH4xLAkTNb"
      }
    },
    {
      "cell_type": "markdown",
      "source": [
        "**Ridge**"
      ],
      "metadata": {
        "id": "N2S-wUjakTNb"
      }
    },
    {
      "cell_type": "code",
      "source": [
        "from sklearn.linear_model import Ridge\n",
        "from sklearn.preprocessing import StandardScaler\n",
        "from sklearn.metrics import mean_squared_error,mean_absolute_error\n",
        "\n",
        "scaler = StandardScaler()\n",
        "model = Ridge(alpha = 0.01)\n",
        "X_train = scaler.fit_transform(X_train)\n",
        "X_test =  scaler.fit_transform(X_test)\n",
        "model.fit(X_train,y_train)\n",
        "\n",
        "\n",
        "print(f\"MSE: {mean_squared_error(model.predict(X_test),y_test)}\")\n",
        "print(f\"RMSE: {mean_squared_error(model.predict(X_test),y_test)**0.5}\")\n",
        "print(f\"MAE: {mean_absolute_error(model.predict(X_test),y_test)}\")"
      ],
      "metadata": {
        "trusted": true,
        "execution": {
          "iopub.status.busy": "2024-12-06T12:23:15.822791Z",
          "iopub.execute_input": "2024-12-06T12:23:15.823189Z",
          "iopub.status.idle": "2024-12-06T12:23:20.076582Z",
          "shell.execute_reply.started": "2024-12-06T12:23:15.823157Z",
          "shell.execute_reply": "2024-12-06T12:23:20.07496Z"
        },
        "id": "VmaUh5IRkTNc",
        "outputId": "fc23765e-1b32-4e76-a7a3-dcc73e32b8ab"
      },
      "outputs": [
        {
          "name": "stdout",
          "text": "MSE: 441.2050104120735\nRMSE: 21.004880633130803\nMAE: 17.10012827298112\n",
          "output_type": "stream"
        }
      ],
      "execution_count": null
    },
    {
      "cell_type": "markdown",
      "source": [
        "**RandomForestRegressor**"
      ],
      "metadata": {
        "id": "mglQ5AMJkTNe"
      }
    },
    {
      "cell_type": "code",
      "source": [
        "from sklearn.model_selection import train_test_split\n",
        "\n",
        "\n",
        "X = spotify.drop(\"popularity\",axis =1)\n",
        "Y = spotify[\"popularity\"]\n",
        "X_train, X_test, y_train, y_test = train_test_split(\n",
        "    X, Y, test_size=0.2, random_state=42)"
      ],
      "metadata": {
        "trusted": true,
        "execution": {
          "iopub.status.busy": "2024-12-06T12:23:29.35523Z",
          "iopub.execute_input": "2024-12-06T12:23:29.355602Z",
          "iopub.status.idle": "2024-12-06T12:23:29.398306Z",
          "shell.execute_reply.started": "2024-12-06T12:23:29.355571Z",
          "shell.execute_reply": "2024-12-06T12:23:29.396912Z"
        },
        "id": "yWC99wIYkTNe"
      },
      "outputs": [],
      "execution_count": null
    },
    {
      "cell_type": "code",
      "source": [
        "from sklearn.ensemble import RandomForestRegressor\n",
        "from sklearn.preprocessing import StandardScaler\n",
        "from sklearn.metrics import mean_absolute_percentage_error,mean_squared_error,mean_absolute_error\n",
        "\n",
        "scaler = StandardScaler()\n",
        "model = RandomForestRegressor()\n",
        "X_train = scaler.fit_transform(X_train)\n",
        "X_test =  scaler.fit_transform(X_test)\n",
        "model.fit(X_train,y_train)\n",
        "\n",
        "\n",
        "print(f\"MSE: {mean_squared_error(model.predict(X_test),y_test)}\")\n",
        "print(f\"RMSE: {mean_squared_error(model.predict(X_test),y_test)**0.5}\")\n",
        "print(f\"MAE: {mean_absolute_error(model.predict(X_test),y_test)}\")"
      ],
      "metadata": {
        "trusted": true,
        "execution": {
          "iopub.status.busy": "2024-12-06T12:23:36.899475Z",
          "iopub.execute_input": "2024-12-06T12:23:36.900091Z",
          "iopub.status.idle": "2024-12-06T12:26:16.65669Z",
          "shell.execute_reply.started": "2024-12-06T12:23:36.900036Z",
          "shell.execute_reply": "2024-12-06T12:26:16.655523Z"
        },
        "id": "jaeRtaPfkTNe",
        "outputId": "f8d6178e-7413-46e1-d15f-7819d8427709"
      },
      "outputs": [
        {
          "name": "stdout",
          "text": "MSE: 263.3375553772882\nRMSE: 16.227678681108035\nMAE: 12.49272265575555\n",
          "output_type": "stream"
        }
      ],
      "execution_count": null
    },
    {
      "cell_type": "markdown",
      "source": [
        "**Градиентный бустинг**"
      ],
      "metadata": {
        "id": "m9gN1rfckTNe"
      }
    },
    {
      "cell_type": "code",
      "source": [
        "from sklearn.model_selection import train_test_split\n",
        "\n",
        "\n",
        "\n",
        "X = spotify.drop(\"popularity\",axis =1)\n",
        "Y = spotify[\"popularity\"]\n",
        "X_train, X_test, y_train, y_test = train_test_split(\n",
        "    X, Y, test_size=0.2, random_state=42)"
      ],
      "metadata": {
        "trusted": true,
        "execution": {
          "iopub.status.busy": "2024-12-06T12:26:32.007507Z",
          "iopub.execute_input": "2024-12-06T12:26:32.007995Z",
          "iopub.status.idle": "2024-12-06T12:26:32.052937Z",
          "shell.execute_reply.started": "2024-12-06T12:26:32.007957Z",
          "shell.execute_reply": "2024-12-06T12:26:32.051647Z"
        },
        "id": "M5iPb7eqkTNe"
      },
      "outputs": [],
      "execution_count": null
    },
    {
      "cell_type": "code",
      "source": [
        "from sklearn.ensemble import GradientBoostingRegressor\n",
        "from sklearn.preprocessing import StandardScaler\n",
        "from sklearn.metrics import mean_squared_error,mean_absolute_error\n",
        "\n",
        "scaler = StandardScaler()\n",
        "model = GradientBoostingRegressor()\n",
        "X_train = scaler.fit_transform(X_train)\n",
        "X_test =  scaler.fit_transform(X_test)\n",
        "model.fit(X_train,y_train)\n",
        "\n",
        "\n",
        "print(f\"MSE: {mean_squared_error(model.predict(X_test),y_test)}\")\n",
        "print(f\"RMSE: {mean_squared_error(model.predict(X_test),y_test)**0.5}\")\n",
        "print(f\"MAE: {mean_absolute_error(model.predict(X_test),y_test)}\")"
      ],
      "metadata": {
        "trusted": true,
        "execution": {
          "iopub.status.busy": "2024-12-06T12:26:44.460316Z",
          "iopub.execute_input": "2024-12-06T12:26:44.460723Z",
          "iopub.status.idle": "2024-12-06T12:27:22.319037Z",
          "shell.execute_reply.started": "2024-12-06T12:26:44.460688Z",
          "shell.execute_reply": "2024-12-06T12:27:22.317924Z"
        },
        "id": "ASuLBwBjkTNf",
        "outputId": "397199aa-1db4-40a1-e8fc-255ab20308e9"
      },
      "outputs": [
        {
          "name": "stdout",
          "text": "MSE: 405.94388053881096\nRMSE: 20.148049050436892\nMAE: 16.3354179429977\n",
          "output_type": "stream"
        }
      ],
      "execution_count": null
    },
    {
      "cell_type": "markdown",
      "source": [
        "также добавил полиномиальные признаки"
      ],
      "metadata": {
        "id": "iz8IjmPhkTNf"
      }
    },
    {
      "cell_type": "markdown",
      "source": [
        "**Деревья решений**"
      ],
      "metadata": {
        "id": "VMU4mrxlkTNf"
      }
    },
    {
      "cell_type": "code",
      "source": [
        "from sklearn.model_selection import train_test_split\n",
        "\n",
        "\n",
        "X = spotify.drop(\"popularity\",axis =1)\n",
        "Y = spotify[\"popularity\"]\n",
        "X_train, X_test, y_train, y_test = train_test_split(\n",
        "    X, Y, test_size=0.2, random_state=42)"
      ],
      "metadata": {
        "trusted": true,
        "execution": {
          "iopub.status.busy": "2024-12-05T13:34:10.073142Z",
          "iopub.execute_input": "2024-12-05T13:34:10.073554Z",
          "iopub.status.idle": "2024-12-05T13:34:10.107739Z",
          "shell.execute_reply.started": "2024-12-05T13:34:10.07352Z",
          "shell.execute_reply": "2024-12-05T13:34:10.106619Z"
        },
        "id": "2lUqdx8CkTNf"
      },
      "outputs": [],
      "execution_count": null
    },
    {
      "cell_type": "code",
      "source": [
        "from sklearn.tree import DecisionTreeRegressor\n",
        "from sklearn.preprocessing import StandardScaler\n",
        "from sklearn.metrics import mean_squared_error,mean_absolute_error\n",
        "\n",
        "scaler = StandardScaler()\n",
        "model = DecisionTreeRegressor()\n",
        "X_train = scaler.fit_transform(X_train)\n",
        "X_test =  scaler.fit_transform(X_test)\n",
        "model.fit(X_train,y_train)\n",
        "\n",
        "\n",
        "print(f\"MSE: {mean_squared_error(model.predict(X_test),y_test)}\")\n",
        "print(f\"RMSE: {mean_squared_error(model.predict(X_test),y_test)**0.5}\")\n",
        "print(f\"MAE: {mean_absolute_error(model.predict(X_test),y_test)}\")"
      ],
      "metadata": {
        "trusted": true,
        "execution": {
          "iopub.status.busy": "2024-12-06T12:28:53.713699Z",
          "iopub.execute_input": "2024-12-06T12:28:53.715107Z",
          "iopub.status.idle": "2024-12-06T12:28:56.191175Z",
          "shell.execute_reply.started": "2024-12-06T12:28:53.715059Z",
          "shell.execute_reply": "2024-12-06T12:28:56.189879Z"
        },
        "id": "C_8oRd6PkTNf",
        "outputId": "188c5bd8-d152-40c5-9c36-00a867c710f5"
      },
      "outputs": [
        {
          "name": "stdout",
          "text": "MSE: 555.29528841042\nRMSE: 23.5647042928703\nMAE: 15.455985291511608\n",
          "output_type": "stream"
        }
      ],
      "execution_count": null
    },
    {
      "cell_type": "markdown",
      "source": [
        "**Нейронные сети**"
      ],
      "metadata": {
        "id": "9h7GdnuYkTNf"
      }
    },
    {
      "cell_type": "code",
      "source": [
        "from sklearn.model_selection import train_test_split\n",
        "\n",
        "\n",
        "X = spotify.drop(\"popularity\",axis =1)\n",
        "Y = spotify[\"popularity\"]\n",
        "X_train, X_test, y_train, y_test = train_test_split(\n",
        "    X, Y, test_size=0.2, random_state=42)"
      ],
      "metadata": {
        "trusted": true,
        "id": "ObRT12upkTNf"
      },
      "outputs": [],
      "execution_count": null
    },
    {
      "cell_type": "code",
      "source": [
        "import tensorflow as tf\n",
        "from tensorflow import keras"
      ],
      "metadata": {
        "trusted": true,
        "execution": {
          "iopub.status.busy": "2024-12-05T13:34:31.277192Z",
          "iopub.execute_input": "2024-12-05T13:34:31.277622Z",
          "iopub.status.idle": "2024-12-05T13:34:44.933411Z",
          "shell.execute_reply.started": "2024-12-05T13:34:31.277584Z",
          "shell.execute_reply": "2024-12-05T13:34:44.932428Z"
        },
        "id": "sj3de9mLkTNf"
      },
      "outputs": [],
      "execution_count": null
    },
    {
      "cell_type": "markdown",
      "source": [
        "Самая простая модель"
      ],
      "metadata": {
        "id": "moe11do_kTNf"
      }
    },
    {
      "cell_type": "code",
      "source": [
        "from sklearn.preprocessing import StandardScaler\n",
        "from sklearn.metrics import mean_absolute_percentage_error,mean_squared_error,mean_absolute_error\n",
        "\n",
        "scaler = StandardScaler()\n",
        "X_train = scaler.fit_transform(X_train)\n",
        "X_test =  scaler.fit_transform(X_test)\n",
        "\n",
        "\n",
        "model = keras.Sequential([\n",
        "    keras.layers.Dense(64,activation = 'relu',input_shape=(X_train.shape[1],)),\n",
        "\n",
        "    keras.layers.Dense(1)\n",
        "])\n",
        "\n",
        "model.compile(optimizer='adam',loss=['mean_squared_error'],metrics = ['mse', 'mae'])\n",
        "history = model.fit(X_train, y_train, validation_split=0.2, epochs=20)\n",
        "\n",
        "import matplotlib.pyplot as plt\n",
        "\n",
        "\n",
        "plt.plot(history.history['mae'], label='mae')\n",
        "plt.plot(history.history['val_mae'], label='val_mae')\n",
        "\n",
        "plt.legend()\n",
        "loss = model.evaluate(X_test,y_test)\n",
        "print(f'RMSE loss: {loss[1]**0.5}')\n",
        "print(f\"MAE loss: {loss[2]}\")"
      ],
      "metadata": {
        "trusted": true,
        "execution": {
          "iopub.status.busy": "2024-12-05T13:34:48.982576Z",
          "iopub.execute_input": "2024-12-05T13:34:48.98328Z",
          "iopub.status.idle": "2024-12-05T13:36:02.140552Z",
          "shell.execute_reply.started": "2024-12-05T13:34:48.983241Z",
          "shell.execute_reply": "2024-12-05T13:36:02.139357Z"
        },
        "id": "9UZfARZYkTNf",
        "outputId": "d31e8f7c-687f-4e45-8b77-203872663a28"
      },
      "outputs": [
        {
          "name": "stdout",
          "text": "Epoch 1/20\n",
          "output_type": "stream"
        },
        {
          "name": "stderr",
          "text": "/opt/conda/lib/python3.10/site-packages/keras/src/layers/core/dense.py:87: UserWarning: Do not pass an `input_shape`/`input_dim` argument to a layer. When using Sequential models, prefer using an `Input(shape)` object as the first layer in the model instead.\n  super().__init__(activity_regularizer=activity_regularizer, **kwargs)\n",
          "output_type": "stream"
        },
        {
          "name": "stdout",
          "text": "\u001b[1m2258/2258\u001b[0m \u001b[32m━━━━━━━━━━━━━━━━━━━━\u001b[0m\u001b[37m\u001b[0m \u001b[1m5s\u001b[0m 2ms/step - loss: 890.5927 - mae: 24.1253 - mse: 890.5927 - val_loss: 478.2486 - val_mae: 18.0719 - val_mse: 478.2486\nEpoch 2/20\n\u001b[1m2258/2258\u001b[0m \u001b[32m━━━━━━━━━━━━━━━━━━━━\u001b[0m\u001b[37m\u001b[0m \u001b[1m4s\u001b[0m 2ms/step - loss: 478.1353 - mae: 18.0734 - mse: 478.1353 - val_loss: 464.4355 - val_mae: 17.7204 - val_mse: 464.4355\nEpoch 3/20\n\u001b[1m2258/2258\u001b[0m \u001b[32m━━━━━━━━━━━━━━━━━━━━\u001b[0m\u001b[37m\u001b[0m \u001b[1m3s\u001b[0m 2ms/step - loss: 472.5765 - mae: 17.9458 - mse: 472.5765 - val_loss: 460.1045 - val_mae: 17.6039 - val_mse: 460.1045\nEpoch 4/20\n\u001b[1m2258/2258\u001b[0m \u001b[32m━━━━━━━━━━━━━━━━━━━━\u001b[0m\u001b[37m\u001b[0m \u001b[1m3s\u001b[0m 2ms/step - loss: 462.0814 - mae: 17.6620 - mse: 462.0814 - val_loss: 459.4493 - val_mae: 17.5928 - val_mse: 459.4493\nEpoch 5/20\n\u001b[1m2258/2258\u001b[0m \u001b[32m━━━━━━━━━━━━━━━━━━━━\u001b[0m\u001b[37m\u001b[0m \u001b[1m3s\u001b[0m 2ms/step - loss: 458.9548 - mae: 17.5927 - mse: 458.9548 - val_loss: 456.6885 - val_mae: 17.5264 - val_mse: 456.6885\nEpoch 6/20\n\u001b[1m2258/2258\u001b[0m \u001b[32m━━━━━━━━━━━━━━━━━━━━\u001b[0m\u001b[37m\u001b[0m \u001b[1m3s\u001b[0m 2ms/step - loss: 462.2967 - mae: 17.6663 - mse: 462.2967 - val_loss: 455.1454 - val_mae: 17.4562 - val_mse: 455.1454\nEpoch 7/20\n\u001b[1m2258/2258\u001b[0m \u001b[32m━━━━━━━━━━━━━━━━━━━━\u001b[0m\u001b[37m\u001b[0m \u001b[1m4s\u001b[0m 2ms/step - loss: 460.1154 - mae: 17.5996 - mse: 460.1154 - val_loss: 455.1085 - val_mae: 17.4558 - val_mse: 455.1085\nEpoch 8/20\n\u001b[1m2258/2258\u001b[0m \u001b[32m━━━━━━━━━━━━━━━━━━━━\u001b[0m\u001b[37m\u001b[0m \u001b[1m3s\u001b[0m 2ms/step - loss: 458.4695 - mae: 17.5582 - mse: 458.4695 - val_loss: 453.8874 - val_mae: 17.4109 - val_mse: 453.8874\nEpoch 9/20\n\u001b[1m2258/2258\u001b[0m \u001b[32m━━━━━━━━━━━━━━━━━━━━\u001b[0m\u001b[37m\u001b[0m \u001b[1m3s\u001b[0m 2ms/step - loss: 454.8802 - mae: 17.4778 - mse: 454.8802 - val_loss: 453.6767 - val_mae: 17.4176 - val_mse: 453.6767\nEpoch 10/20\n\u001b[1m2258/2258\u001b[0m \u001b[32m━━━━━━━━━━━━━━━━━━━━\u001b[0m\u001b[37m\u001b[0m \u001b[1m3s\u001b[0m 2ms/step - loss: 456.4659 - mae: 17.4819 - mse: 456.4659 - val_loss: 453.0638 - val_mae: 17.4141 - val_mse: 453.0638\nEpoch 11/20\n\u001b[1m2258/2258\u001b[0m \u001b[32m━━━━━━━━━━━━━━━━━━━━\u001b[0m\u001b[37m\u001b[0m \u001b[1m4s\u001b[0m 2ms/step - loss: 450.1232 - mae: 17.3627 - mse: 450.1232 - val_loss: 451.5717 - val_mae: 17.3516 - val_mse: 451.5717\nEpoch 12/20\n\u001b[1m2258/2258\u001b[0m \u001b[32m━━━━━━━━━━━━━━━━━━━━\u001b[0m\u001b[37m\u001b[0m \u001b[1m3s\u001b[0m 2ms/step - loss: 453.3330 - mae: 17.4007 - mse: 453.3330 - val_loss: 451.7390 - val_mae: 17.3407 - val_mse: 451.7390\nEpoch 13/20\n\u001b[1m2258/2258\u001b[0m \u001b[32m━━━━━━━━━━━━━━━━━━━━\u001b[0m\u001b[37m\u001b[0m \u001b[1m4s\u001b[0m 2ms/step - loss: 453.3385 - mae: 17.4170 - mse: 453.3385 - val_loss: 451.5245 - val_mae: 17.3081 - val_mse: 451.5245\nEpoch 14/20\n\u001b[1m2258/2258\u001b[0m \u001b[32m━━━━━━━━━━━━━━━━━━━━\u001b[0m\u001b[37m\u001b[0m \u001b[1m4s\u001b[0m 2ms/step - loss: 453.7606 - mae: 17.4043 - mse: 453.7606 - val_loss: 450.3011 - val_mae: 17.3491 - val_mse: 450.3011\nEpoch 15/20\n\u001b[1m2258/2258\u001b[0m \u001b[32m━━━━━━━━━━━━━━━━━━━━\u001b[0m\u001b[37m\u001b[0m \u001b[1m3s\u001b[0m 2ms/step - loss: 450.6735 - mae: 17.3494 - mse: 450.6735 - val_loss: 450.2842 - val_mae: 17.3169 - val_mse: 450.2842\nEpoch 16/20\n\u001b[1m2258/2258\u001b[0m \u001b[32m━━━━━━━━━━━━━━━━━━━━\u001b[0m\u001b[37m\u001b[0m \u001b[1m4s\u001b[0m 2ms/step - loss: 454.2831 - mae: 17.4422 - mse: 454.2831 - val_loss: 450.6984 - val_mae: 17.3501 - val_mse: 450.6984\nEpoch 17/20\n\u001b[1m2258/2258\u001b[0m \u001b[32m━━━━━━━━━━━━━━━━━━━━\u001b[0m\u001b[37m\u001b[0m \u001b[1m4s\u001b[0m 2ms/step - loss: 453.7903 - mae: 17.4343 - mse: 453.7903 - val_loss: 448.9890 - val_mae: 17.2900 - val_mse: 448.9890\nEpoch 18/20\n\u001b[1m2258/2258\u001b[0m \u001b[32m━━━━━━━━━━━━━━━━━━━━\u001b[0m\u001b[37m\u001b[0m \u001b[1m4s\u001b[0m 2ms/step - loss: 451.7305 - mae: 17.3719 - mse: 451.7305 - val_loss: 449.6150 - val_mae: 17.3126 - val_mse: 449.6150\nEpoch 19/20\n\u001b[1m2258/2258\u001b[0m \u001b[32m━━━━━━━━━━━━━━━━━━━━\u001b[0m\u001b[37m\u001b[0m \u001b[1m4s\u001b[0m 2ms/step - loss: 449.2271 - mae: 17.2966 - mse: 449.2271 - val_loss: 449.6097 - val_mae: 17.3304 - val_mse: 449.6097\nEpoch 20/20\n\u001b[1m2258/2258\u001b[0m \u001b[32m━━━━━━━━━━━━━━━━━━━━\u001b[0m\u001b[37m\u001b[0m \u001b[1m4s\u001b[0m 2ms/step - loss: 449.5554 - mae: 17.3275 - mse: 449.5554 - val_loss: 448.3828 - val_mae: 17.2326 - val_mse: 448.3828\n\u001b[1m706/706\u001b[0m \u001b[32m━━━━━━━━━━━━━━━━━━━━\u001b[0m\u001b[37m\u001b[0m \u001b[1m1s\u001b[0m 1ms/step - loss: 452.6913 - mae: 17.3023 - mse: 452.6913\nRMSE loss: 21.140836479217555\nMAE loss: 17.216569900512695\n",
          "output_type": "stream"
        },
        {
          "output_type": "display_data",
          "data": {
            "text/plain": "<Figure size 640x480 with 1 Axes>",
            "image/png": "[encoded data removed]"
          },
          "metadata": {}
        }
      ],
      "execution_count": null
    },
    {
      "cell_type": "markdown",
      "source": [
        "как видим результат уже довольно неплох в сранении с прошлыми моделями"
      ],
      "metadata": {
        "id": "g5OQvHFZkTNg"
      }
    },
    {
      "cell_type": "code",
      "source": [
        "попробуем добавить слоев"
      ],
      "metadata": {
        "trusted": true,
        "id": "F7ds0pidkTNg"
      },
      "outputs": [],
      "execution_count": null
    },
    {
      "cell_type": "code",
      "source": [
        "from sklearn.preprocessing import StandardScaler\n",
        "from sklearn.metrics import mean_absolute_percentage_error,mean_squared_error,mean_absolute_error\n",
        "\n",
        "scaler = StandardScaler()\n",
        "X_train = scaler.fit_transform(X_train)\n",
        "X_test =  scaler.fit_transform(X_test)\n",
        "\n",
        "\n",
        "model = keras.Sequential([\n",
        "    keras.layers.Dense(64,activation = 'relu',input_shape=(X_train.shape[1],)),\n",
        "    keras.layers.Dense(128,activation = 'relu'),\n",
        "    keras.layers.Dense(64,activation = 'relu'),\n",
        "    keras.layers.Dense(1)\n",
        "])\n",
        "\n",
        "model.compile(optimizer='adam',loss=['mean_squared_error'],metrics = ['mse', 'mae'])\n",
        "history = model.fit(X_train, y_train, validation_split=0.2, epochs=20)\n",
        "\n",
        "import matplotlib.pyplot as plt\n",
        "\n",
        "\n",
        "plt.plot(history.history['mae'], label='mae')\n",
        "plt.plot(history.history['val_mae'], label='val_mae')\n",
        "\n",
        "plt.legend()\n",
        "loss = model.evaluate(X_test,y_test)\n",
        "print(f'RMSE loss: {loss[1]**0.5}')\n",
        "print(f\"MAE loss: {loss[2]}\")"
      ],
      "metadata": {
        "trusted": true,
        "execution": {
          "iopub.status.busy": "2024-12-05T13:38:14.118022Z",
          "iopub.execute_input": "2024-12-05T13:38:14.118457Z",
          "iopub.status.idle": "2024-12-05T13:39:43.632438Z",
          "shell.execute_reply.started": "2024-12-05T13:38:14.118418Z",
          "shell.execute_reply": "2024-12-05T13:39:43.631265Z"
        },
        "id": "rIVtW3R_kTNg",
        "outputId": "4ccad9ef-f8a6-4241-8a02-4da631e6261b"
      },
      "outputs": [
        {
          "name": "stdout",
          "text": "Epoch 1/20\n",
          "output_type": "stream"
        },
        {
          "name": "stderr",
          "text": "/opt/conda/lib/python3.10/site-packages/keras/src/layers/core/dense.py:87: UserWarning: Do not pass an `input_shape`/`input_dim` argument to a layer. When using Sequential models, prefer using an `Input(shape)` object as the first layer in the model instead.\n  super().__init__(activity_regularizer=activity_regularizer, **kwargs)\n",
          "output_type": "stream"
        },
        {
          "name": "stdout",
          "text": "\u001b[1m2258/2258\u001b[0m \u001b[32m━━━━━━━━━━━━━━━━━━━━\u001b[0m\u001b[37m\u001b[0m \u001b[1m6s\u001b[0m 2ms/step - loss: 575.1493 - mae: 19.5999 - mse: 575.1493 - val_loss: 462.0919 - val_mae: 17.5072 - val_mse: 462.0919\nEpoch 2/20\n\u001b[1m2258/2258\u001b[0m \u001b[32m━━━━━━━━━━━━━━━━━━━━\u001b[0m\u001b[37m\u001b[0m \u001b[1m4s\u001b[0m 2ms/step - loss: 467.3150 - mae: 17.7170 - mse: 467.3150 - val_loss: 449.8939 - val_mae: 17.3028 - val_mse: 449.8939\nEpoch 3/20\n\u001b[1m2258/2258\u001b[0m \u001b[32m━━━━━━━━━━━━━━━━━━━━\u001b[0m\u001b[37m\u001b[0m \u001b[1m4s\u001b[0m 2ms/step - loss: 454.8223 - mae: 17.4033 - mse: 454.8223 - val_loss: 447.0605 - val_mae: 17.2378 - val_mse: 447.0605\nEpoch 4/20\n\u001b[1m2258/2258\u001b[0m \u001b[32m━━━━━━━━━━━━━━━━━━━━\u001b[0m\u001b[37m\u001b[0m \u001b[1m4s\u001b[0m 2ms/step - loss: 446.0517 - mae: 17.2167 - mse: 446.0517 - val_loss: 443.0186 - val_mae: 17.0524 - val_mse: 443.0186\nEpoch 5/20\n\u001b[1m2258/2258\u001b[0m \u001b[32m━━━━━━━━━━━━━━━━━━━━\u001b[0m\u001b[37m\u001b[0m \u001b[1m4s\u001b[0m 2ms/step - loss: 439.2890 - mae: 17.0477 - mse: 439.2890 - val_loss: 440.1238 - val_mae: 16.9082 - val_mse: 440.1238\nEpoch 6/20\n\u001b[1m2258/2258\u001b[0m \u001b[32m━━━━━━━━━━━━━━━━━━━━\u001b[0m\u001b[37m\u001b[0m \u001b[1m5s\u001b[0m 2ms/step - loss: 437.4184 - mae: 16.9490 - mse: 437.4184 - val_loss: 435.0108 - val_mae: 16.8592 - val_mse: 435.0108\nEpoch 7/20\n\u001b[1m2258/2258\u001b[0m \u001b[32m━━━━━━━━━━━━━━━━━━━━\u001b[0m\u001b[37m\u001b[0m \u001b[1m5s\u001b[0m 2ms/step - loss: 429.9691 - mae: 16.7799 - mse: 429.9691 - val_loss: 431.2149 - val_mae: 16.7531 - val_mse: 431.2149\nEpoch 8/20\n\u001b[1m2258/2258\u001b[0m \u001b[32m━━━━━━━━━━━━━━━━━━━━\u001b[0m\u001b[37m\u001b[0m \u001b[1m4s\u001b[0m 2ms/step - loss: 428.7786 - mae: 16.7493 - mse: 428.7786 - val_loss: 434.8035 - val_mae: 16.8663 - val_mse: 434.8035\nEpoch 9/20\n\u001b[1m2258/2258\u001b[0m \u001b[32m━━━━━━━━━━━━━━━━━━━━\u001b[0m\u001b[37m\u001b[0m \u001b[1m4s\u001b[0m 2ms/step - loss: 422.1310 - mae: 16.6169 - mse: 422.1310 - val_loss: 429.1804 - val_mae: 16.6533 - val_mse: 429.1804\nEpoch 10/20\n\u001b[1m2258/2258\u001b[0m \u001b[32m━━━━━━━━━━━━━━━━━━━━\u001b[0m\u001b[37m\u001b[0m \u001b[1m4s\u001b[0m 2ms/step - loss: 420.3904 - mae: 16.5324 - mse: 420.3904 - val_loss: 424.6240 - val_mae: 16.5341 - val_mse: 424.6240\nEpoch 11/20\n\u001b[1m2258/2258\u001b[0m \u001b[32m━━━━━━━━━━━━━━━━━━━━\u001b[0m\u001b[37m\u001b[0m \u001b[1m4s\u001b[0m 2ms/step - loss: 415.4692 - mae: 16.4080 - mse: 415.4692 - val_loss: 427.2923 - val_mae: 16.5709 - val_mse: 427.2923\nEpoch 12/20\n\u001b[1m2258/2258\u001b[0m \u001b[32m━━━━━━━━━━━━━━━━━━━━\u001b[0m\u001b[37m\u001b[0m \u001b[1m4s\u001b[0m 2ms/step - loss: 414.8134 - mae: 16.3932 - mse: 414.8134 - val_loss: 429.1442 - val_mae: 16.5588 - val_mse: 429.1442\nEpoch 13/20\n\u001b[1m2258/2258\u001b[0m \u001b[32m━━━━━━━━━━━━━━━━━━━━\u001b[0m\u001b[37m\u001b[0m \u001b[1m4s\u001b[0m 2ms/step - loss: 410.0732 - mae: 16.2759 - mse: 410.0732 - val_loss: 423.1471 - val_mae: 16.3833 - val_mse: 423.1471\nEpoch 14/20\n\u001b[1m2258/2258\u001b[0m \u001b[32m━━━━━━━━━━━━━━━━━━━━\u001b[0m\u001b[37m\u001b[0m \u001b[1m4s\u001b[0m 2ms/step - loss: 403.5356 - mae: 16.0973 - mse: 403.5356 - val_loss: 419.6418 - val_mae: 16.4023 - val_mse: 419.6418\nEpoch 15/20\n\u001b[1m2258/2258\u001b[0m \u001b[32m━━━━━━━━━━━━━━━━━━━━\u001b[0m\u001b[37m\u001b[0m \u001b[1m4s\u001b[0m 2ms/step - loss: 402.7081 - mae: 16.0977 - mse: 402.7081 - val_loss: 416.9770 - val_mae: 16.3191 - val_mse: 416.9770\nEpoch 16/20\n\u001b[1m2258/2258\u001b[0m \u001b[32m━━━━━━━━━━━━━━━━━━━━\u001b[0m\u001b[37m\u001b[0m \u001b[1m4s\u001b[0m 2ms/step - loss: 397.5456 - mae: 15.9698 - mse: 397.5456 - val_loss: 418.9808 - val_mae: 16.3023 - val_mse: 418.9808\nEpoch 17/20\n\u001b[1m2258/2258\u001b[0m \u001b[32m━━━━━━━━━━━━━━━━━━━━\u001b[0m\u001b[37m\u001b[0m \u001b[1m4s\u001b[0m 2ms/step - loss: 393.4362 - mae: 15.8177 - mse: 393.4362 - val_loss: 410.8300 - val_mae: 16.1701 - val_mse: 410.8300\nEpoch 18/20\n\u001b[1m2258/2258\u001b[0m \u001b[32m━━━━━━━━━━━━━━━━━━━━\u001b[0m\u001b[37m\u001b[0m \u001b[1m4s\u001b[0m 2ms/step - loss: 390.2427 - mae: 15.7779 - mse: 390.2427 - val_loss: 413.9972 - val_mae: 16.1644 - val_mse: 413.9972\nEpoch 19/20\n\u001b[1m2258/2258\u001b[0m \u001b[32m━━━━━━━━━━━━━━━━━━━━\u001b[0m\u001b[37m\u001b[0m \u001b[1m4s\u001b[0m 2ms/step - loss: 387.4220 - mae: 15.6838 - mse: 387.4220 - val_loss: 412.8515 - val_mae: 16.1894 - val_mse: 412.8515\nEpoch 20/20\n\u001b[1m2258/2258\u001b[0m \u001b[32m━━━━━━━━━━━━━━━━━━━━\u001b[0m\u001b[37m\u001b[0m \u001b[1m4s\u001b[0m 2ms/step - loss: 384.3974 - mae: 15.6236 - mse: 384.3974 - val_loss: 413.1367 - val_mae: 16.1769 - val_mse: 413.1367\n\u001b[1m706/706\u001b[0m \u001b[32m━━━━━━━━━━━━━━━━━━━━\u001b[0m\u001b[37m\u001b[0m \u001b[1m1s\u001b[0m 1ms/step - loss: 421.4619 - mae: 16.3276 - mse: 421.4619\nRMSE loss: 20.32023515580244\nMAE loss: 16.19415855407715\n",
          "output_type": "stream"
        },
        {
          "output_type": "display_data",
          "data": {
            "text/plain": "<Figure size 640x480 with 1 Axes>",
            "image/png": "[encoded data removed]"
          },
          "metadata": {}
        }
      ],
      "execution_count": null
    },
    {
      "cell_type": "markdown",
      "source": [
        "получили небольшой прирост"
      ],
      "metadata": {
        "id": "TNbHwQpFkTNg"
      }
    },
    {
      "cell_type": "code",
      "source": [
        "from sklearn.model_selection import train_test_split\n",
        "from sklearn.preprocessing import PolynomialFeatures\n",
        "poly = PolynomialFeatures(degree = 2)\n",
        "#spotify[\"oth\"]  = spotify[\"popularity\"]/spotify[\"duration_ms\"]\n",
        "\n",
        "X = spotify.drop(\"popularity\",axis =1)\n",
        "X  =poly.fit_transform(X)\n",
        "Y = spotify[\"popularity\"]\n",
        "X_train, X_test, y_train, y_test = train_test_split(\n",
        "    X, Y, test_size=0.2, random_state=42)"
      ],
      "metadata": {
        "trusted": true,
        "execution": {
          "iopub.status.busy": "2024-12-05T13:40:10.660589Z",
          "iopub.execute_input": "2024-12-05T13:40:10.661007Z",
          "iopub.status.idle": "2024-12-05T13:40:10.99616Z",
          "shell.execute_reply.started": "2024-12-05T13:40:10.660971Z",
          "shell.execute_reply": "2024-12-05T13:40:10.995007Z"
        },
        "id": "qk83TmhlkTNg"
      },
      "outputs": [],
      "execution_count": null
    },
    {
      "cell_type": "code",
      "source": [
        "from sklearn.preprocessing import StandardScaler\n",
        "from sklearn.metrics import mean_absolute_percentage_error,mean_squared_error,mean_absolute_error\n",
        "\n",
        "scaler = StandardScaler()\n",
        "X_train = scaler.fit_transform(X_train)\n",
        "X_test =  scaler.fit_transform(X_test)\n",
        "\n",
        "\n",
        "model = keras.Sequential([\n",
        "    keras.layers.Dense(128,activation = 'relu',input_shape=(X_train.shape[1],)),\n",
        "    keras.layers.Dense(64,activation = 'relu'),\n",
        "    keras.layers.Dense(32,activation = 'relu'),\n",
        "    keras.layers.Dense(16,activation = 'relu'),\n",
        "    keras.layers.Dense(1)\n",
        "])\n",
        "\n",
        "model.compile(optimizer='adam',loss=['mean_squared_error'],metrics = ['mse', 'mae'])\n",
        "history = model.fit(X_train, y_train, validation_split=0.2, epochs=20)\n",
        "#model.fit(X_train,y_train,epochs = 100,batch_size = 32,validation_split = 0.2)\n",
        "import matplotlib.pyplot as plt\n",
        "\n",
        "#plot the loss and validation loss of the dataset\n",
        "plt.plot(history.history['mae'], label='mae')\n",
        "plt.plot(history.history['val_mae'], label='val_mae')\n",
        "\n",
        "plt.legend()\n",
        "loss = model.evaluate(X_test,y_test)\n",
        "print(f'RMSE loss: {loss[1]**0.5}')\n",
        "print(f\"MAE loss: {loss[2]}\")"
      ],
      "metadata": {
        "trusted": true,
        "execution": {
          "iopub.status.busy": "2024-12-05T13:41:51.940294Z",
          "iopub.execute_input": "2024-12-05T13:41:51.940758Z",
          "iopub.status.idle": "2024-12-05T13:43:49.683437Z",
          "shell.execute_reply.started": "2024-12-05T13:41:51.94071Z",
          "shell.execute_reply": "2024-12-05T13:43:49.682139Z"
        },
        "id": "cOJX0-lNkTNg",
        "outputId": "23592f58-e281-467f-96bb-fde0025af582"
      },
      "outputs": [
        {
          "name": "stdout",
          "text": "Epoch 1/20\n",
          "output_type": "stream"
        },
        {
          "name": "stderr",
          "text": "/opt/conda/lib/python3.10/site-packages/keras/src/layers/core/dense.py:87: UserWarning: Do not pass an `input_shape`/`input_dim` argument to a layer. When using Sequential models, prefer using an `Input(shape)` object as the first layer in the model instead.\n  super().__init__(activity_regularizer=activity_regularizer, **kwargs)\n",
          "output_type": "stream"
        },
        {
          "name": "stdout",
          "text": "\u001b[1m2258/2258\u001b[0m \u001b[32m━━━━━━━━━━━━━━━━━━━━\u001b[0m\u001b[37m\u001b[0m \u001b[1m8s\u001b[0m 3ms/step - loss: 558.4789 - mae: 19.2507 - mse: 558.4789 - val_loss: 457.2379 - val_mae: 17.4907 - val_mse: 457.2379\nEpoch 2/20\n\u001b[1m2258/2258\u001b[0m \u001b[32m━━━━━━━━━━━━━━━━━━━━\u001b[0m\u001b[37m\u001b[0m \u001b[1m6s\u001b[0m 3ms/step - loss: 464.6429 - mae: 17.6586 - mse: 464.6429 - val_loss: 455.4811 - val_mae: 17.3998 - val_mse: 455.4811\nEpoch 3/20\n\u001b[1m2258/2258\u001b[0m \u001b[32m━━━━━━━━━━━━━━━━━━━━\u001b[0m\u001b[37m\u001b[0m \u001b[1m6s\u001b[0m 3ms/step - loss: 455.6597 - mae: 17.4287 - mse: 455.6597 - val_loss: 445.2680 - val_mae: 17.1898 - val_mse: 445.2680\nEpoch 4/20\n\u001b[1m2258/2258\u001b[0m \u001b[32m━━━━━━━━━━━━━━━━━━━━\u001b[0m\u001b[37m\u001b[0m \u001b[1m5s\u001b[0m 2ms/step - loss: 448.5728 - mae: 17.2205 - mse: 448.5728 - val_loss: 441.1316 - val_mae: 16.9573 - val_mse: 441.1316\nEpoch 5/20\n\u001b[1m2258/2258\u001b[0m \u001b[32m━━━━━━━━━━━━━━━━━━━━\u001b[0m\u001b[37m\u001b[0m \u001b[1m7s\u001b[0m 3ms/step - loss: 442.9442 - mae: 17.0139 - mse: 442.9442 - val_loss: 437.4246 - val_mae: 16.9352 - val_mse: 437.4246\nEpoch 6/20\n\u001b[1m2258/2258\u001b[0m \u001b[32m━━━━━━━━━━━━━━━━━━━━\u001b[0m\u001b[37m\u001b[0m \u001b[1m6s\u001b[0m 3ms/step - loss: 433.6000 - mae: 16.8196 - mse: 433.6000 - val_loss: 430.9789 - val_mae: 16.7486 - val_mse: 430.9789\nEpoch 7/20\n\u001b[1m2258/2258\u001b[0m \u001b[32m━━━━━━━━━━━━━━━━━━━━\u001b[0m\u001b[37m\u001b[0m \u001b[1m6s\u001b[0m 3ms/step - loss: 433.3656 - mae: 16.8029 - mse: 433.3656 - val_loss: 433.3730 - val_mae: 16.7833 - val_mse: 433.3730\nEpoch 8/20\n\u001b[1m2258/2258\u001b[0m \u001b[32m━━━━━━━━━━━━━━━━━━━━\u001b[0m\u001b[37m\u001b[0m \u001b[1m6s\u001b[0m 3ms/step - loss: 422.5374 - mae: 16.5135 - mse: 422.5374 - val_loss: 425.9521 - val_mae: 16.5092 - val_mse: 425.9521\nEpoch 9/20\n\u001b[1m2258/2258\u001b[0m \u001b[32m━━━━━━━━━━━━━━━━━━━━\u001b[0m\u001b[37m\u001b[0m \u001b[1m6s\u001b[0m 3ms/step - loss: 420.8687 - mae: 16.4207 - mse: 420.8687 - val_loss: 421.2950 - val_mae: 16.4422 - val_mse: 421.2950\nEpoch 10/20\n\u001b[1m2258/2258\u001b[0m \u001b[32m━━━━━━━━━━━━━━━━━━━━\u001b[0m\u001b[37m\u001b[0m \u001b[1m6s\u001b[0m 2ms/step - loss: 414.1951 - mae: 16.2729 - mse: 414.1951 - val_loss: 420.0173 - val_mae: 16.3354 - val_mse: 420.0173\nEpoch 11/20\n\u001b[1m2258/2258\u001b[0m \u001b[32m━━━━━━━━━━━━━━━━━━━━\u001b[0m\u001b[37m\u001b[0m \u001b[1m6s\u001b[0m 3ms/step - loss: 406.9524 - mae: 16.0533 - mse: 406.9524 - val_loss: 415.8953 - val_mae: 16.1792 - val_mse: 415.8953\nEpoch 12/20\n\u001b[1m2258/2258\u001b[0m \u001b[32m━━━━━━━━━━━━━━━━━━━━\u001b[0m\u001b[37m\u001b[0m \u001b[1m5s\u001b[0m 2ms/step - loss: 397.5704 - mae: 15.8352 - mse: 397.5704 - val_loss: 415.1173 - val_mae: 16.2497 - val_mse: 415.1173\nEpoch 13/20\n\u001b[1m2258/2258\u001b[0m \u001b[32m━━━━━━━━━━━━━━━━━━━━\u001b[0m\u001b[37m\u001b[0m \u001b[1m5s\u001b[0m 2ms/step - loss: 398.1546 - mae: 15.8623 - mse: 398.1546 - val_loss: 413.3307 - val_mae: 16.1346 - val_mse: 413.3307\nEpoch 14/20\n\u001b[1m2258/2258\u001b[0m \u001b[32m━━━━━━━━━━━━━━━━━━━━\u001b[0m\u001b[37m\u001b[0m \u001b[1m6s\u001b[0m 2ms/step - loss: 393.6947 - mae: 15.7085 - mse: 393.6947 - val_loss: 411.3805 - val_mae: 16.0318 - val_mse: 411.3805\nEpoch 15/20\n\u001b[1m2258/2258\u001b[0m \u001b[32m━━━━━━━━━━━━━━━━━━━━\u001b[0m\u001b[37m\u001b[0m \u001b[1m5s\u001b[0m 2ms/step - loss: 386.5284 - mae: 15.5581 - mse: 386.5284 - val_loss: 418.2997 - val_mae: 16.2095 - val_mse: 418.2997\nEpoch 16/20\n\u001b[1m2258/2258\u001b[0m \u001b[32m━━━━━━━━━━━━━━━━━━━━\u001b[0m\u001b[37m\u001b[0m \u001b[1m5s\u001b[0m 2ms/step - loss: 383.7832 - mae: 15.4690 - mse: 383.7832 - val_loss: 410.6627 - val_mae: 16.0022 - val_mse: 410.6627\nEpoch 17/20\n\u001b[1m2258/2258\u001b[0m \u001b[32m━━━━━━━━━━━━━━━━━━━━\u001b[0m\u001b[37m\u001b[0m \u001b[1m5s\u001b[0m 2ms/step - loss: 382.8347 - mae: 15.4686 - mse: 382.8347 - val_loss: 415.7145 - val_mae: 16.0670 - val_mse: 415.7145\nEpoch 18/20\n\u001b[1m2258/2258\u001b[0m \u001b[32m━━━━━━━━━━━━━━━━━━━━\u001b[0m\u001b[37m\u001b[0m \u001b[1m5s\u001b[0m 2ms/step - loss: 379.5782 - mae: 15.3624 - mse: 379.5782 - val_loss: 413.3912 - val_mae: 15.8768 - val_mse: 413.3912\nEpoch 19/20\n\u001b[1m2258/2258\u001b[0m \u001b[32m━━━━━━━━━━━━━━━━━━━━\u001b[0m\u001b[37m\u001b[0m \u001b[1m5s\u001b[0m 2ms/step - loss: 373.7413 - mae: 15.2101 - mse: 373.7413 - val_loss: 409.1783 - val_mae: 15.9516 - val_mse: 409.1783\nEpoch 20/20\n\u001b[1m2258/2258\u001b[0m \u001b[32m━━━━━━━━━━━━━━━━━━━━\u001b[0m\u001b[37m\u001b[0m \u001b[1m5s\u001b[0m 2ms/step - loss: 366.7414 - mae: 15.0510 - mse: 366.7414 - val_loss: 404.5361 - val_mae: 15.8310 - val_mse: 404.5361\n\u001b[1m706/706\u001b[0m \u001b[32m━━━━━━━━━━━━━━━━━━━━\u001b[0m\u001b[37m\u001b[0m \u001b[1m1s\u001b[0m 1ms/step - loss: 407.1552 - mae: 15.9269 - mse: 407.1552\nRMSE loss: 20.00320408904846\nMAE loss: 15.794337272644043\n",
          "output_type": "stream"
        },
        {
          "output_type": "display_data",
          "data": {
            "text/plain": "<Figure size 640x480 with 1 Axes>",
            "image/png": "[encoded data removed]"
          },
          "metadata": {}
        }
      ],
      "execution_count": null
    },
    {
      "cell_type": "code",
      "source": [
        "from sklearn.preprocessing import StandardScaler\n",
        "from sklearn.metrics import mean_absolute_percentage_error,mean_squared_error,mean_absolute_error\n",
        "\n",
        "scaler = StandardScaler()\n",
        "X_train = scaler.fit_transform(X_train)\n",
        "X_test =  scaler.fit_transform(X_test)\n",
        "\n",
        "\n",
        "model = keras.Sequential([\n",
        "    keras.layers.Dense(128,activation = 'relu',input_shape=(X_train.shape[1],)),\n",
        "    keras.layers.Dense(64,activation = 'relu'),\n",
        "    keras.layers.Dense(32,activation = 'relu'),\n",
        "    keras.layers.Dense(16,activation = 'relu'),\n",
        "    keras.layers.Dense(8,activation = 'relu'),\n",
        "    keras.layers.Dense(4,activation = 'relu'),\n",
        "    keras.layers.Dense(1)\n",
        "])\n",
        "\n",
        "model.compile(optimizer='adam',loss=['mean_squared_error'],metrics = ['mse', 'mae'])\n",
        "history = model.fit(X_train, y_train, validation_split=0.2, epochs=20)\n",
        "#model.fit(X_train,y_train,epochs = 100,batch_size = 32,validation_split = 0.2)\n",
        "import matplotlib.pyplot as plt\n",
        "\n",
        "#plot the loss and validation loss of the dataset\n",
        "plt.plot(history.history['mae'], label='mae')\n",
        "plt.plot(history.history['val_mae'], label='val_mae')\n",
        "\n",
        "plt.legend()\n",
        "loss = model.evaluate(X_test,y_test)\n",
        "print(f'RMSE loss: {loss[1]**0.5}')\n",
        "print(f\"MAE loss: {loss[2]}\")"
      ],
      "metadata": {
        "trusted": true,
        "execution": {
          "iopub.status.busy": "2024-12-05T13:44:14.002347Z",
          "iopub.execute_input": "2024-12-05T13:44:14.002819Z",
          "iopub.status.idle": "2024-12-05T13:46:04.784934Z",
          "shell.execute_reply.started": "2024-12-05T13:44:14.002776Z",
          "shell.execute_reply": "2024-12-05T13:46:04.783695Z"
        },
        "id": "PnJJxn62kTNg",
        "outputId": "27a7d60f-34f4-418d-e03d-38ce2a2651b1"
      },
      "outputs": [
        {
          "name": "stdout",
          "text": "Epoch 1/20\n",
          "output_type": "stream"
        },
        {
          "name": "stderr",
          "text": "/opt/conda/lib/python3.10/site-packages/keras/src/layers/core/dense.py:87: UserWarning: Do not pass an `input_shape`/`input_dim` argument to a layer. When using Sequential models, prefer using an `Input(shape)` object as the first layer in the model instead.\n  super().__init__(activity_regularizer=activity_regularizer, **kwargs)\n",
          "output_type": "stream"
        },
        {
          "name": "stdout",
          "text": "\u001b[1m2258/2258\u001b[0m \u001b[32m━━━━━━━━━━━━━━━━━━━━\u001b[0m\u001b[37m\u001b[0m \u001b[1m8s\u001b[0m 3ms/step - loss: 552.9034 - mae: 19.1391 - mse: 552.9034 - val_loss: 460.6636 - val_mae: 17.5622 - val_mse: 460.6636\nEpoch 2/20\n\u001b[1m2258/2258\u001b[0m \u001b[32m━━━━━━━━━━━━━━━━━━━━\u001b[0m\u001b[37m\u001b[0m \u001b[1m5s\u001b[0m 2ms/step - loss: 462.4384 - mae: 17.5780 - mse: 462.4384 - val_loss: 451.0362 - val_mae: 17.2744 - val_mse: 451.0362\nEpoch 3/20\n\u001b[1m2258/2258\u001b[0m \u001b[32m━━━━━━━━━━━━━━━━━━━━\u001b[0m\u001b[37m\u001b[0m \u001b[1m5s\u001b[0m 2ms/step - loss: 453.2971 - mae: 17.3231 - mse: 453.2971 - val_loss: 445.8076 - val_mae: 17.1385 - val_mse: 445.8076\nEpoch 4/20\n\u001b[1m2258/2258\u001b[0m \u001b[32m━━━━━━━━━━━━━━━━━━━━\u001b[0m\u001b[37m\u001b[0m \u001b[1m5s\u001b[0m 2ms/step - loss: 445.2944 - mae: 17.1383 - mse: 445.2944 - val_loss: 440.0170 - val_mae: 16.9038 - val_mse: 440.0170\nEpoch 5/20\n\u001b[1m2258/2258\u001b[0m \u001b[32m━━━━━━━━━━━━━━━━━━━━\u001b[0m\u001b[37m\u001b[0m \u001b[1m5s\u001b[0m 2ms/step - loss: 439.3210 - mae: 16.9638 - mse: 439.3210 - val_loss: 436.4496 - val_mae: 16.8645 - val_mse: 436.4496\nEpoch 6/20\n\u001b[1m2258/2258\u001b[0m \u001b[32m━━━━━━━━━━━━━━━━━━━━\u001b[0m\u001b[37m\u001b[0m \u001b[1m6s\u001b[0m 2ms/step - loss: 434.5897 - mae: 16.8653 - mse: 434.5897 - val_loss: 436.5220 - val_mae: 16.8562 - val_mse: 436.5220\nEpoch 7/20\n\u001b[1m2258/2258\u001b[0m \u001b[32m━━━━━━━━━━━━━━━━━━━━\u001b[0m\u001b[37m\u001b[0m \u001b[1m5s\u001b[0m 2ms/step - loss: 429.4250 - mae: 16.6881 - mse: 429.4250 - val_loss: 431.3419 - val_mae: 16.7437 - val_mse: 431.3419\nEpoch 8/20\n\u001b[1m2258/2258\u001b[0m \u001b[32m━━━━━━━━━━━━━━━━━━━━\u001b[0m\u001b[37m\u001b[0m \u001b[1m5s\u001b[0m 2ms/step - loss: 426.8409 - mae: 16.6083 - mse: 426.8409 - val_loss: 428.4423 - val_mae: 16.5596 - val_mse: 428.4423\nEpoch 9/20\n\u001b[1m2258/2258\u001b[0m \u001b[32m━━━━━━━━━━━━━━━━━━━━\u001b[0m\u001b[37m\u001b[0m \u001b[1m6s\u001b[0m 2ms/step - loss: 420.5882 - mae: 16.4387 - mse: 420.5882 - val_loss: 424.4299 - val_mae: 16.4817 - val_mse: 424.4299\nEpoch 10/20\n\u001b[1m2258/2258\u001b[0m \u001b[32m━━━━━━━━━━━━━━━━━━━━\u001b[0m\u001b[37m\u001b[0m \u001b[1m5s\u001b[0m 2ms/step - loss: 415.7722 - mae: 16.3104 - mse: 415.7722 - val_loss: 420.1902 - val_mae: 16.3211 - val_mse: 420.1902\nEpoch 11/20\n\u001b[1m2258/2258\u001b[0m \u001b[32m━━━━━━━━━━━━━━━━━━━━\u001b[0m\u001b[37m\u001b[0m \u001b[1m5s\u001b[0m 2ms/step - loss: 407.2437 - mae: 16.1047 - mse: 407.2437 - val_loss: 427.6887 - val_mae: 16.3502 - val_mse: 427.6887\nEpoch 12/20\n\u001b[1m2258/2258\u001b[0m \u001b[32m━━━━━━━━━━━━━━━━━━━━\u001b[0m\u001b[37m\u001b[0m \u001b[1m5s\u001b[0m 2ms/step - loss: 403.0209 - mae: 15.9666 - mse: 403.0209 - val_loss: 419.1606 - val_mae: 16.2917 - val_mse: 419.1606\nEpoch 13/20\n\u001b[1m2258/2258\u001b[0m \u001b[32m━━━━━━━━━━━━━━━━━━━━\u001b[0m\u001b[37m\u001b[0m \u001b[1m5s\u001b[0m 2ms/step - loss: 395.2180 - mae: 15.7876 - mse: 395.2180 - val_loss: 415.6496 - val_mae: 16.1563 - val_mse: 415.6496\nEpoch 14/20\n\u001b[1m2258/2258\u001b[0m \u001b[32m━━━━━━━━━━━━━━━━━━━━\u001b[0m\u001b[37m\u001b[0m \u001b[1m5s\u001b[0m 2ms/step - loss: 387.9677 - mae: 15.5869 - mse: 387.9677 - val_loss: 414.3795 - val_mae: 16.1740 - val_mse: 414.3795\nEpoch 15/20\n\u001b[1m2258/2258\u001b[0m \u001b[32m━━━━━━━━━━━━━━━━━━━━\u001b[0m\u001b[37m\u001b[0m \u001b[1m5s\u001b[0m 2ms/step - loss: 387.9048 - mae: 15.5893 - mse: 387.9048 - val_loss: 411.6964 - val_mae: 16.0993 - val_mse: 411.6964\nEpoch 16/20\n\u001b[1m2258/2258\u001b[0m \u001b[32m━━━━━━━━━━━━━━━━━━━━\u001b[0m\u001b[37m\u001b[0m \u001b[1m5s\u001b[0m 2ms/step - loss: 383.4893 - mae: 15.4517 - mse: 383.4893 - val_loss: 415.5491 - val_mae: 16.0002 - val_mse: 415.5491\nEpoch 17/20\n\u001b[1m2258/2258\u001b[0m \u001b[32m━━━━━━━━━━━━━━━━━━━━\u001b[0m\u001b[37m\u001b[0m \u001b[1m5s\u001b[0m 2ms/step - loss: 380.9794 - mae: 15.3789 - mse: 380.9794 - val_loss: 410.8891 - val_mae: 15.9361 - val_mse: 410.8891\nEpoch 18/20\n\u001b[1m2258/2258\u001b[0m \u001b[32m━━━━━━━━━━━━━━━━━━━━\u001b[0m\u001b[37m\u001b[0m \u001b[1m5s\u001b[0m 2ms/step - loss: 373.0259 - mae: 15.1736 - mse: 373.0259 - val_loss: 409.2651 - val_mae: 15.8626 - val_mse: 409.2651\nEpoch 19/20\n\u001b[1m2258/2258\u001b[0m \u001b[32m━━━━━━━━━━━━━━━━━━━━\u001b[0m\u001b[37m\u001b[0m \u001b[1m5s\u001b[0m 2ms/step - loss: 374.3707 - mae: 15.2328 - mse: 374.3707 - val_loss: 409.5991 - val_mae: 15.8640 - val_mse: 409.5991\nEpoch 20/20\n\u001b[1m2258/2258\u001b[0m \u001b[32m━━━━━━━━━━━━━━━━━━━━\u001b[0m\u001b[37m\u001b[0m \u001b[1m5s\u001b[0m 2ms/step - loss: 370.8545 - mae: 15.1395 - mse: 370.8545 - val_loss: 408.2527 - val_mae: 15.8900 - val_mse: 408.2527\n\u001b[1m706/706\u001b[0m \u001b[32m━━━━━━━━━━━━━━━━━━━━\u001b[0m\u001b[37m\u001b[0m \u001b[1m1s\u001b[0m 1ms/step - loss: 412.2261 - mae: 15.9521 - mse: 412.2261\nRMSE loss: 20.104954563441492\nMAE loss: 15.824361801147461\n",
          "output_type": "stream"
        },
        {
          "output_type": "display_data",
          "data": {
            "text/plain": "<Figure size 640x480 with 1 Axes>",
            "image/png": "[encoded data removed]"
          },
          "metadata": {}
        }
      ],
      "execution_count": null
    },
    {
      "cell_type": "markdown",
      "source": [
        "Дальнейшее увеличение слоев привело к переобучению"
      ],
      "metadata": {
        "id": "SWMWu0d0kTNg"
      }
    },
    {
      "cell_type": "code",
      "source": [
        "from sklearn.preprocessing import StandardScaler\n",
        "from sklearn.metrics import mean_absolute_percentage_error,mean_squared_error,mean_absolute_error\n",
        "\n",
        "scaler = StandardScaler()\n",
        "X_train = scaler.fit_transform(X_train)\n",
        "X_test =  scaler.fit_transform(X_test)\n",
        "\n",
        "\n",
        "model = keras.Sequential([\n",
        "    keras.layers.Dense(256,activation = 'relu',input_shape=(X_train.shape[1],)),\n",
        "    keras.layers.Dense(128,activation = 'relu'),\n",
        "    keras.layers.Dense(64,activation = 'relu'),\n",
        "    keras.layers.Dense(32,activation = 'relu'),\n",
        "    keras.layers.Dense(16,activation = 'relu'),\n",
        "    keras.layers.Dense(8,activation = 'relu'),\n",
        "    keras.layers.Dense(4,activation = 'relu'),\n",
        "    keras.layers.Dense(1)\n",
        "])\n",
        "\n",
        "model.compile(optimizer='adam',loss=['mean_squared_error'],metrics = ['mse', 'mae'])\n",
        "history = model.fit(X_train, y_train, validation_split=0.2, epochs=15)\n",
        "#model.fit(X_train,y_train,epochs = 100,batch_size = 32,validation_split = 0.2)\n",
        "import matplotlib.pyplot as plt\n",
        "\n",
        "#plot the loss and validation loss of the dataset\n",
        "plt.plot(history.history['mae'], label='mae')\n",
        "plt.plot(history.history['val_mae'], label='val_mae')\n",
        "\n",
        "plt.legend()\n",
        "loss = model.evaluate(X_test,y_test)\n",
        "print(f'RMSE loss: {loss[1]**0.5}')\n",
        "print(f\"MAE loss: {loss[2]}\")"
      ],
      "metadata": {
        "trusted": true,
        "execution": {
          "iopub.status.busy": "2024-12-05T13:46:16.678244Z",
          "iopub.execute_input": "2024-12-05T13:46:16.678644Z",
          "iopub.status.idle": "2024-12-05T13:47:58.813288Z",
          "shell.execute_reply.started": "2024-12-05T13:46:16.678606Z",
          "shell.execute_reply": "2024-12-05T13:47:58.811853Z"
        },
        "id": "k9792X7PkTNg",
        "outputId": "5080b013-e2ce-4847-fb41-e4a0dbf6c3e0"
      },
      "outputs": [
        {
          "name": "stdout",
          "text": "Epoch 1/15\n",
          "output_type": "stream"
        },
        {
          "name": "stderr",
          "text": "/opt/conda/lib/python3.10/site-packages/keras/src/layers/core/dense.py:87: UserWarning: Do not pass an `input_shape`/`input_dim` argument to a layer. When using Sequential models, prefer using an `Input(shape)` object as the first layer in the model instead.\n  super().__init__(activity_regularizer=activity_regularizer, **kwargs)\n",
          "output_type": "stream"
        },
        {
          "name": "stdout",
          "text": "\u001b[1m2258/2258\u001b[0m \u001b[32m━━━━━━━━━━━━━━━━━━━━\u001b[0m\u001b[37m\u001b[0m \u001b[1m9s\u001b[0m 3ms/step - loss: 541.4960 - mae: 18.9352 - mse: 541.4960 - val_loss: 479.4970 - val_mae: 18.0595 - val_mse: 479.4970\nEpoch 2/15\n\u001b[1m2258/2258\u001b[0m \u001b[32m━━━━━━━━━━━━━━━━━━━━\u001b[0m\u001b[37m\u001b[0m \u001b[1m6s\u001b[0m 3ms/step - loss: 465.5676 - mae: 17.6526 - mse: 465.5676 - val_loss: 451.3893 - val_mae: 17.2996 - val_mse: 451.3893\nEpoch 3/15\n\u001b[1m2258/2258\u001b[0m \u001b[32m━━━━━━━━━━━━━━━━━━━━\u001b[0m\u001b[37m\u001b[0m \u001b[1m6s\u001b[0m 3ms/step - loss: 455.2835 - mae: 17.3730 - mse: 455.2835 - val_loss: 446.9849 - val_mae: 17.1766 - val_mse: 446.9849\nEpoch 4/15\n\u001b[1m2258/2258\u001b[0m \u001b[32m━━━━━━━━━━━━━━━━━━━━\u001b[0m\u001b[37m\u001b[0m \u001b[1m7s\u001b[0m 3ms/step - loss: 450.3604 - mae: 17.2266 - mse: 450.3604 - val_loss: 438.9069 - val_mae: 16.9575 - val_mse: 438.9069\nEpoch 5/15\n\u001b[1m2258/2258\u001b[0m \u001b[32m━━━━━━━━━━━━━━━━━━━━\u001b[0m\u001b[37m\u001b[0m \u001b[1m7s\u001b[0m 3ms/step - loss: 443.1955 - mae: 17.0498 - mse: 443.1955 - val_loss: 439.7912 - val_mae: 16.9697 - val_mse: 439.7912\nEpoch 6/15\n\u001b[1m2258/2258\u001b[0m \u001b[32m━━━━━━━━━━━━━━━━━━━━\u001b[0m\u001b[37m\u001b[0m \u001b[1m6s\u001b[0m 3ms/step - loss: 440.7820 - mae: 16.9752 - mse: 440.7820 - val_loss: 437.8835 - val_mae: 16.9326 - val_mse: 437.8835\nEpoch 7/15\n\u001b[1m2258/2258\u001b[0m \u001b[32m━━━━━━━━━━━━━━━━━━━━\u001b[0m\u001b[37m\u001b[0m \u001b[1m7s\u001b[0m 3ms/step - loss: 429.7845 - mae: 16.7237 - mse: 429.7845 - val_loss: 435.7589 - val_mae: 16.7616 - val_mse: 435.7589\nEpoch 8/15\n\u001b[1m2258/2258\u001b[0m \u001b[32m━━━━━━━━━━━━━━━━━━━━\u001b[0m\u001b[37m\u001b[0m \u001b[1m7s\u001b[0m 3ms/step - loss: 426.0895 - mae: 16.6350 - mse: 426.0895 - val_loss: 433.8530 - val_mae: 16.6872 - val_mse: 433.8530\nEpoch 9/15\n\u001b[1m2258/2258\u001b[0m \u001b[32m━━━━━━━━━━━━━━━━━━━━\u001b[0m\u001b[37m\u001b[0m \u001b[1m6s\u001b[0m 3ms/step - loss: 420.0437 - mae: 16.4638 - mse: 420.0437 - val_loss: 425.3553 - val_mae: 16.5228 - val_mse: 425.3553\nEpoch 10/15\n\u001b[1m2258/2258\u001b[0m \u001b[32m━━━━━━━━━━━━━━━━━━━━\u001b[0m\u001b[37m\u001b[0m \u001b[1m6s\u001b[0m 3ms/step - loss: 416.3427 - mae: 16.3721 - mse: 416.3427 - val_loss: 421.2810 - val_mae: 16.4825 - val_mse: 421.2810\nEpoch 11/15\n\u001b[1m2258/2258\u001b[0m \u001b[32m━━━━━━━━━━━━━━━━━━━━\u001b[0m\u001b[37m\u001b[0m \u001b[1m7s\u001b[0m 3ms/step - loss: 408.0544 - mae: 16.1553 - mse: 408.0544 - val_loss: 424.1367 - val_mae: 16.5034 - val_mse: 424.1367\nEpoch 12/15\n\u001b[1m2258/2258\u001b[0m \u001b[32m━━━━━━━━━━━━━━━━━━━━\u001b[0m\u001b[37m\u001b[0m \u001b[1m7s\u001b[0m 3ms/step - loss: 403.9508 - mae: 16.0395 - mse: 403.9508 - val_loss: 416.1006 - val_mae: 16.2042 - val_mse: 416.1006\nEpoch 13/15\n\u001b[1m2258/2258\u001b[0m \u001b[32m━━━━━━━━━━━━━━━━━━━━\u001b[0m\u001b[37m\u001b[0m \u001b[1m7s\u001b[0m 3ms/step - loss: 395.1196 - mae: 15.7845 - mse: 395.1196 - val_loss: 413.6270 - val_mae: 16.1758 - val_mse: 413.6270\nEpoch 14/15\n\u001b[1m2258/2258\u001b[0m \u001b[32m━━━━━━━━━━━━━━━━━━━━\u001b[0m\u001b[37m\u001b[0m \u001b[1m7s\u001b[0m 3ms/step - loss: 390.5236 - mae: 15.6859 - mse: 390.5236 - val_loss: 415.4387 - val_mae: 16.1563 - val_mse: 415.4387\nEpoch 15/15\n\u001b[1m2258/2258\u001b[0m \u001b[32m━━━━━━━━━━━━━━━━━━━━\u001b[0m\u001b[37m\u001b[0m \u001b[1m7s\u001b[0m 3ms/step - loss: 385.5769 - mae: 15.5945 - mse: 385.5769 - val_loss: 423.7018 - val_mae: 16.4362 - val_mse: 423.7018\n\u001b[1m706/706\u001b[0m \u001b[32m━━━━━━━━━━━━━━━━━━━━\u001b[0m\u001b[37m\u001b[0m \u001b[1m1s\u001b[0m 2ms/step - loss: 430.3454 - mae: 16.5527 - mse: 430.3454\nRMSE loss: 20.605802352157312\nMAE loss: 16.465625762939453\n",
          "output_type": "stream"
        },
        {
          "output_type": "display_data",
          "data": {
            "text/plain": "<Figure size 640x480 with 1 Axes>",
            "image/png": "[encoded data removed]"
          },
          "metadata": {}
        }
      ],
      "execution_count": null
    },
    {
      "cell_type": "markdown",
      "source": [
        "# КРОСС-ВАЛИДАЦИЯ"
      ],
      "metadata": {
        "id": "vI_uCHe_kTNg"
      }
    },
    {
      "cell_type": "markdown",
      "source": [
        "оценим модель на кросс валидации"
      ],
      "metadata": {
        "id": "JfKcjHhJkTNh"
      }
    },
    {
      "cell_type": "code",
      "source": [
        "from sklearn.model_selection import KFold\n",
        "from sklearn.model_selection import cross_val_score\n",
        "from sklearn.model_selection import train_test_split\n",
        "\n",
        "\n",
        "X = spotify.drop(\"popularity\",axis =1)\n",
        "Y = spotify[\"popularity\"]\n",
        "X_train, X_test, y_train, y_test = train_test_split(\n",
        "    X, Y, test_size=0.2, random_state=42)\n",
        "\n",
        "\n",
        "from sklearn.ensemble import RandomForestRegressor\n",
        "from sklearn.preprocessing import StandardScaler\n",
        "from sklearn.metrics import mean_absolute_percentage_error,mean_squared_error,mean_absolute_error\n",
        "\n",
        "scaler = StandardScaler()\n",
        "X__train_scaler = scaler.fit_transform(X_train)\n",
        "model = RandomForestRegressor()\n",
        "mse = cross_val_score(model, X__train_scaler, y_train, cv=10,\n",
        "                        scoring='neg_mean_squared_error'\n",
        "                        )\n",
        "print(\"MSE: \",-1*mse.mean())\n",
        "mae = cross_val_score(model, X__train_scaler, y_train, cv=10,\n",
        "                        scoring='neg_mean_absolute_error',\n",
        "                        )\n",
        "print(\"MAE: \",mae.mean())"
      ],
      "metadata": {
        "trusted": true,
        "execution": {
          "iopub.status.busy": "2024-12-13T10:31:35.81769Z",
          "iopub.execute_input": "2024-12-13T10:31:35.818102Z",
          "iopub.status.idle": "2024-12-13T11:16:29.752538Z",
          "shell.execute_reply.started": "2024-12-13T10:31:35.818066Z",
          "shell.execute_reply": "2024-12-13T11:16:29.751252Z"
        },
        "id": "fSJEuDYMkTNh",
        "outputId": "828197da-233f-4406-c9e6-c57da0c268f3"
      },
      "outputs": [
        {
          "name": "stdout",
          "text": "MSE:  204.64192040229221\nMAE:  -10.610345770784571\n",
          "output_type": "stream"
        }
      ],
      "execution_count": null
    },
    {
      "cell_type": "markdown",
      "source": [
        "забыл умножить MAE на -1,не стал переделывать т.к очень долго выполняется"
      ],
      "metadata": {
        "id": "eFHRKEiLkTNh"
      }
    },
    {
      "cell_type": "markdown",
      "source": [
        "# Вывод"
      ],
      "metadata": {
        "id": "tfZZ22jIkTNh"
      }
    },
    {
      "cell_type": "markdown",
      "source": [
        "**Вывод:** лучше всего себя показал RandomForestRegressor с результатом MAE: 12.49272265575555,RMSE: 16.227678681108035,MSE: 263.3375553772882,но при этом эта модель и дольше всех и обучалась.Что касается самих данных,мы видим преобладание объектов с низкой популярностью(0-20),и по всей видимости это ухудшило результат модели.Также отсутствуют признаки которые сильно коррелируют с таргетной переменной,что тоже не улучшило метрики"
      ],
      "metadata": {
        "id": "aRx6dQLdkTNh"
      }
    }
  ]
}